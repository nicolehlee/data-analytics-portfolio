{
 "cells": [
  {
   "cell_type": "markdown",
   "id": "6d3facfa-c516-47c8-b35f-d11b80675469",
   "metadata": {},
   "source": [
    "# Project 1: e-Commerce (Target) Sales Dataset Analysis\n",
    "## Main Question: What are the top 3 states with the most orders, and what was their purchasing behavior?\n",
    "In this notebook, I will be analyzing the Target Sales Dataset (5 csv files) to find the top 3 states in Brazil with the most orders and their purchasing behaviors."
   ]
  },
  {
   "cell_type": "markdown",
   "id": "67e1203a-3d87-4d33-8ae4-66b60557f550",
   "metadata": {},
   "source": [
    "## Importing Necessary Libraries\n",
    "SQLite to perform SQL queries. Pandas for data manipulation and analysis, and Matplotlib and Seaborn for visualizations. The %matplotlib inline command ensures that plots are displayed directly in the notebook output."
   ]
  },
  {
   "cell_type": "code",
   "execution_count": 1,
   "id": "48863782-e79c-4df0-a852-c5010eeefa28",
   "metadata": {},
   "outputs": [],
   "source": [
    "import sqlite3\n",
    "import pandas as pd\n",
    "import matplotlib.pyplot as plt\n",
    "import seaborn as sns\n",
    "\n",
    "%matplotlib inline"
   ]
  },
  {
   "cell_type": "markdown",
   "id": "11bb5f46-0d1a-4382-94d0-1b258ef85c1c",
   "metadata": {},
   "source": [
    "## Importing the Dataset's csv files\n",
    "Loading the dataset's five csv files into Pandas Dataframes."
   ]
  },
  {
   "cell_type": "code",
   "execution_count": 2,
   "id": "03385d96-bc80-44a8-a2f7-0bfd48078610",
   "metadata": {},
   "outputs": [],
   "source": [
    "customers = pd.read_csv('customers.csv')\n",
    "orders = pd.read_csv('orders.csv')\n",
    "payments = pd.read_csv('payments.csv')\n",
    "products = pd.read_csv('products.csv')\n",
    "order_items = pd.read_csv('order_items.csv')"
   ]
  },
  {
   "cell_type": "markdown",
   "id": "b32c83d9-406d-4b97-b3cd-395ccb615a76",
   "metadata": {},
   "source": [
    "## Preparing for SQL Queries"
   ]
  },
  {
   "cell_type": "markdown",
   "id": "32bed286-9e55-4ce2-8423-32283153e397",
   "metadata": {},
   "source": [
    "Creating a database and connecting to it."
   ]
  },
  {
   "cell_type": "code",
   "execution_count": 3,
   "id": "821e80af-5eb1-44a7-9d3c-16f4705363b8",
   "metadata": {},
   "outputs": [],
   "source": [
    "conn = sqlite3.connect('project1.db')\n",
    "cursor = conn.cursor()"
   ]
  },
  {
   "cell_type": "markdown",
   "id": "281fca51-843a-4b49-8bc0-dc94b94601da",
   "metadata": {},
   "source": [
    "Reading the Pandas Dataframes into SQL tables using the 'to_sql()' method."
   ]
  },
  {
   "cell_type": "code",
   "execution_count": 4,
   "id": "d1c734db-9055-499d-a3e3-9992ff3a4c12",
   "metadata": {},
   "outputs": [
    {
     "data": {
      "text/plain": [
       "112650"
      ]
     },
     "execution_count": 4,
     "metadata": {},
     "output_type": "execute_result"
    }
   ],
   "source": [
    "customers.to_sql('customers', conn, if_exists='replace', index=False)\n",
    "orders.to_sql('orders', conn, if_exists='replace', index=False)\n",
    "payments.to_sql('payments', conn, if_exists='replace', index=False)\n",
    "products.to_sql('products', conn, if_exists='replace', index=False)\n",
    "order_items.to_sql('order_items', conn, if_exists='replace', index=False)"
   ]
  },
  {
   "cell_type": "markdown",
   "id": "146bc9ca-24b0-4d36-a761-d63f7a19711c",
   "metadata": {},
   "source": [
    "Previewing the tables."
   ]
  },
  {
   "cell_type": "code",
   "execution_count": 5,
   "id": "546b48c0-0410-4928-a552-5e7184018451",
   "metadata": {},
   "outputs": [
    {
     "name": "stdout",
     "output_type": "stream",
     "text": [
      "Preview of customers table:\n",
      "                        customer_id                customer_unique_id  \\\n",
      "0  06b8999e2fba1a1fbc88172c00ba8bc7  861eff4711a542e4b93843c6dd7febb0   \n",
      "1  18955e83d337fd6b2def6b18a428ac77  290c77bc529b7ac935b93aa66c333dc3   \n",
      "2  4e7b3e00288586ebd08712fdd0374a03  060e732b5b29e8181a18229c7b0b2b5e   \n",
      "3  b2b6027bc5c5109e529d4dc6358b12c3  259dac757896d24d7702b9acbbff3f3c   \n",
      "4  4f2d8ab171c80ec8364f7c12e35b23ad  345ecd01c38d18a9036ed96c73b8d066   \n",
      "\n",
      "   customer_zip_code_prefix          customer_city customer_state  \n",
      "0                     14409                 franca             SP  \n",
      "1                      9790  sao bernardo do campo             SP  \n",
      "2                      1151              sao paulo             SP  \n",
      "3                      8775        mogi das cruzes             SP  \n",
      "4                     13056               campinas             SP   \n",
      "\n",
      "Preview of orders table:\n",
      "                           order_id                       customer_id  \\\n",
      "0  e481f51cbdc54678b7cc49136f2d6af7  9ef432eb6251297304e76186b10a928d   \n",
      "1  53cdb2fc8bc7dce0b6741e2150273451  b0830fb4747a6c6d20dea0b8c802d7ef   \n",
      "2  47770eb9100c2d0c44946d9cf07ec65d  41ce2a54c0b03bf3443c3d931a367089   \n",
      "3  949d5b44dbf5de918fe9c16f97b45f8a  f88197465ea7920adcdbec7375364d82   \n",
      "4  ad21c59c0840e6cb83a9ceb5573f8159  8ab97904e6daea8866dbdbc4fb7aad2c   \n",
      "\n",
      "  order_status order_purchase_timestamp    order_approved_at  \\\n",
      "0    delivered      2017-10-02 10:56:33  2017-10-02 11:07:15   \n",
      "1    delivered      2018-07-24 20:41:37  2018-07-26 03:24:27   \n",
      "2    delivered      2018-08-08 08:38:49  2018-08-08 08:55:23   \n",
      "3    delivered      2017-11-18 19:28:06  2017-11-18 19:45:59   \n",
      "4    delivered      2018-02-13 21:18:39  2018-02-13 22:20:29   \n",
      "\n",
      "  order_delivered_carrier_date order_delivered_customer_date  \\\n",
      "0          2017-10-04 19:55:00           2017-10-10 21:25:13   \n",
      "1          2018-07-26 14:31:00           2018-08-07 15:27:45   \n",
      "2          2018-08-08 13:50:00           2018-08-17 18:06:29   \n",
      "3          2017-11-22 13:39:59           2017-12-02 00:28:42   \n",
      "4          2018-02-14 19:46:34           2018-02-16 18:17:02   \n",
      "\n",
      "  order_estimated_delivery_date  \n",
      "0           2017-10-18 00:00:00  \n",
      "1           2018-08-13 00:00:00  \n",
      "2           2018-09-04 00:00:00  \n",
      "3           2017-12-15 00:00:00  \n",
      "4           2018-02-26 00:00:00   \n",
      "\n",
      "Preview of payments table:\n",
      "                           order_id  payment_sequential payment_type  \\\n",
      "0  b81ef226f3fe1789b1e8b2acac839d17                   1  credit_card   \n",
      "1  a9810da82917af2d9aefd1278f1dcfa0                   1  credit_card   \n",
      "2  25e8ea4e93396b6fa0d3dd708e76c1bd                   1  credit_card   \n",
      "3  ba78997921bbcdc1373bb41e913ab953                   1  credit_card   \n",
      "4  42fdf880ba16b47b59251dd489d4441a                   1  credit_card   \n",
      "\n",
      "   payment_installments  payment_value  \n",
      "0                     8          99.33  \n",
      "1                     1          24.39  \n",
      "2                     1          65.71  \n",
      "3                     8         107.78  \n",
      "4                     2         128.45   \n",
      "\n",
      "Preview of products table:\n",
      "                         product_id product category  product_name_length  \\\n",
      "0  1e9e8ef04dbcff4541ed26657ea517e5        perfumery                 40.0   \n",
      "1  3aa071139cb16b67ca9e5dea641aaa2f              Art                 44.0   \n",
      "2  96bd76ec8810374ed1b65e291975717f    sport leisure                 46.0   \n",
      "3  cef67bcfe19066a932b7673e239eb23d           babies                 27.0   \n",
      "4  9dc1a7de274444849c219cff195d0b71       housewares                 37.0   \n",
      "\n",
      "   product_description_length  product_photos_qty  product_weight_g  \\\n",
      "0                       287.0                 1.0             225.0   \n",
      "1                       276.0                 1.0            1000.0   \n",
      "2                       250.0                 1.0             154.0   \n",
      "3                       261.0                 1.0             371.0   \n",
      "4                       402.0                 4.0             625.0   \n",
      "\n",
      "   product_length_cm  product_height_cm  product_width_cm  \n",
      "0               16.0               10.0              14.0  \n",
      "1               30.0               18.0              20.0  \n",
      "2               18.0                9.0              15.0  \n",
      "3               26.0                4.0              26.0  \n",
      "4               20.0               17.0              13.0   \n",
      "\n",
      "Preview of order_items table:\n",
      "                           order_id  order_item_id  \\\n",
      "0  00010242fe8c5a6d1ba2dd792cb16214              1   \n",
      "1  00018f77f2f0320c557190d7a144bdd3              1   \n",
      "2  000229ec398224ef6ca0657da4fc703e              1   \n",
      "3  00024acbcdf0a6daa1e931b038114c75              1   \n",
      "4  00042b26cf59d7ce69dfabb4e55b4fd9              1   \n",
      "\n",
      "                         product_id                         seller_id  \\\n",
      "0  4244733e06e7ecb4970a6e2683c13e61  48436dade18ac8b2bce089ec2a041202   \n",
      "1  e5f2d52b802189ee658865ca93d83a8f  dd7ddc04e1b6c2c614352b383efe2d36   \n",
      "2  c777355d18b72b67abbeef9df44fd0fd  5b51032eddd242adc84c38acab88f23d   \n",
      "3  7634da152a4610f1595efa32f14722fc  9d7a1d34a5052409006425275ba1c2b4   \n",
      "4  ac6c3623068f30de03045865e4e10089  df560393f3a51e74553ab94004ba5c87   \n",
      "\n",
      "   shipping_limit_date   price  freight_value  \n",
      "0  2017-09-19 09:45:35   58.90          13.29  \n",
      "1  2017-05-03 11:05:13  239.90          19.93  \n",
      "2  2018-01-18 14:48:30  199.00          17.87  \n",
      "3  2018-08-15 10:10:18   12.99          12.79  \n",
      "4  2017-02-13 13:57:51  199.90          18.14   \n",
      "\n"
     ]
    }
   ],
   "source": [
    "tables = ['customers', 'orders', 'payments', 'products', 'order_items']\n",
    "\n",
    "for table in tables:\n",
    "    query = f\"SELECT * FROM {table} LIMIT 5;\"\n",
    "    preview = pd.read_sql(query, conn)\n",
    "    print(f\"Preview of {table} table:\")\n",
    "    print(preview, \"\\n\")"
   ]
  },
  {
   "cell_type": "markdown",
   "id": "e839abd1-5778-414a-b14d-ef5e24f7e577",
   "metadata": {},
   "source": [
    "## Joining the Dataset with SQL\n",
    "Using SQL to join the datasets while retaining only the relevant columns.\n",
    "\n",
    "There are five SQL tables I have created from the five csv files. Below are the table names the the columns I would like from each of them.\n",
    "\n",
    "1. customers\n",
    "- customer_id\n",
    "- customer_state\n",
    "\n",
    "2. orders\n",
    "- order_id\n",
    "- order_purchase_timestamp\n",
    "\n",
    "3. payments\n",
    "- order_id\n",
    "- payment_type\n",
    "- payment_installments\n",
    "- payment_value\n",
    "\n",
    "4. products\n",
    "- product_id\n",
    "- product_category_name\n",
    "\n",
    "5. order_items\n",
    "- order_id\n",
    "- price"
   ]
  },
  {
   "cell_type": "markdown",
   "id": "2e4d61ce-3ef1-46a3-a774-63cb952ff5d7",
   "metadata": {},
   "source": [
    "### Join 1: Tables 'orders' and 'customers'\n",
    "Joining tables 'orders' and 'customers' on column 'customer_id' to get columns 'customer_state' and 'order_purchase_timestamp'."
   ]
  },
  {
   "cell_type": "code",
   "execution_count": 8,
   "id": "71dd1bc9-3780-4c03-b1be-1ed459bd9f0c",
   "metadata": {},
   "outputs": [],
   "source": [
    "query = \"DROP TABLE IF EXISTS orders_customers_join\"\n",
    "cursor.execute(query)\n",
    "\n",
    "query = \"\"\"\n",
    "CREATE TABLE orders_customers_join AS\n",
    "SELECT o.order_id, o.order_purchase_timestamp, o.customer_id, c.customer_state\n",
    "FROM orders AS o\n",
    "INNER JOIN customers AS c\n",
    "ON o.customer_id = c.customer_id\n",
    "\"\"\"\n",
    "\n",
    "cursor.execute(query)\n",
    "conn.commit()"
   ]
  },
  {
   "cell_type": "code",
   "execution_count": 9,
   "id": "36039dbd-a534-4971-95e4-ee7ee1da59ec",
   "metadata": {},
   "outputs": [
    {
     "data": {
      "text/html": [
       "<div>\n",
       "<style scoped>\n",
       "    .dataframe tbody tr th:only-of-type {\n",
       "        vertical-align: middle;\n",
       "    }\n",
       "\n",
       "    .dataframe tbody tr th {\n",
       "        vertical-align: top;\n",
       "    }\n",
       "\n",
       "    .dataframe thead th {\n",
       "        text-align: right;\n",
       "    }\n",
       "</style>\n",
       "<table border=\"1\" class=\"dataframe\">\n",
       "  <thead>\n",
       "    <tr style=\"text-align: right;\">\n",
       "      <th></th>\n",
       "      <th>order_id</th>\n",
       "      <th>order_purchase_timestamp</th>\n",
       "      <th>customer_id</th>\n",
       "      <th>customer_state</th>\n",
       "    </tr>\n",
       "  </thead>\n",
       "  <tbody>\n",
       "    <tr>\n",
       "      <th>0</th>\n",
       "      <td>e481f51cbdc54678b7cc49136f2d6af7</td>\n",
       "      <td>2017-10-02 10:56:33</td>\n",
       "      <td>9ef432eb6251297304e76186b10a928d</td>\n",
       "      <td>SP</td>\n",
       "    </tr>\n",
       "    <tr>\n",
       "      <th>1</th>\n",
       "      <td>53cdb2fc8bc7dce0b6741e2150273451</td>\n",
       "      <td>2018-07-24 20:41:37</td>\n",
       "      <td>b0830fb4747a6c6d20dea0b8c802d7ef</td>\n",
       "      <td>BA</td>\n",
       "    </tr>\n",
       "    <tr>\n",
       "      <th>2</th>\n",
       "      <td>47770eb9100c2d0c44946d9cf07ec65d</td>\n",
       "      <td>2018-08-08 08:38:49</td>\n",
       "      <td>41ce2a54c0b03bf3443c3d931a367089</td>\n",
       "      <td>GO</td>\n",
       "    </tr>\n",
       "    <tr>\n",
       "      <th>3</th>\n",
       "      <td>949d5b44dbf5de918fe9c16f97b45f8a</td>\n",
       "      <td>2017-11-18 19:28:06</td>\n",
       "      <td>f88197465ea7920adcdbec7375364d82</td>\n",
       "      <td>RN</td>\n",
       "    </tr>\n",
       "    <tr>\n",
       "      <th>4</th>\n",
       "      <td>ad21c59c0840e6cb83a9ceb5573f8159</td>\n",
       "      <td>2018-02-13 21:18:39</td>\n",
       "      <td>8ab97904e6daea8866dbdbc4fb7aad2c</td>\n",
       "      <td>SP</td>\n",
       "    </tr>\n",
       "  </tbody>\n",
       "</table>\n",
       "</div>"
      ],
      "text/plain": [
       "                           order_id order_purchase_timestamp  \\\n",
       "0  e481f51cbdc54678b7cc49136f2d6af7      2017-10-02 10:56:33   \n",
       "1  53cdb2fc8bc7dce0b6741e2150273451      2018-07-24 20:41:37   \n",
       "2  47770eb9100c2d0c44946d9cf07ec65d      2018-08-08 08:38:49   \n",
       "3  949d5b44dbf5de918fe9c16f97b45f8a      2017-11-18 19:28:06   \n",
       "4  ad21c59c0840e6cb83a9ceb5573f8159      2018-02-13 21:18:39   \n",
       "\n",
       "                        customer_id customer_state  \n",
       "0  9ef432eb6251297304e76186b10a928d             SP  \n",
       "1  b0830fb4747a6c6d20dea0b8c802d7ef             BA  \n",
       "2  41ce2a54c0b03bf3443c3d931a367089             GO  \n",
       "3  f88197465ea7920adcdbec7375364d82             RN  \n",
       "4  8ab97904e6daea8866dbdbc4fb7aad2c             SP  "
      ]
     },
     "execution_count": 9,
     "metadata": {},
     "output_type": "execute_result"
    }
   ],
   "source": [
    "query = \"SELECT * FROM orders_customers_join LIMIT 5;\"\n",
    "orders_customers_join_preview = pd.read_sql_query(query, conn)\n",
    "orders_customers_join_preview.head()"
   ]
  },
  {
   "cell_type": "markdown",
   "id": "46058b1f-1fd0-4005-ab95-1dcc29f858ee",
   "metadata": {},
   "source": [
    "The join was successfully completed and stored in table orders_customers_join."
   ]
  },
  {
   "cell_type": "markdown",
   "id": "db83d603-bf7d-47cd-b162-d73190cc0cb2",
   "metadata": {},
   "source": [
    "### Join 2: Tables 'orders_customers_join' and 'payments'\n",
    "Joining tables 'orders_customers_join' and 'payments' on column 'order_id' to get 'columns 'payment_type', 'payment_installments' and 'payment_value'"
   ]
  },
  {
   "cell_type": "code",
   "execution_count": 10,
   "id": "fb8ffba4-21f8-47e8-8e83-847659e33924",
   "metadata": {},
   "outputs": [],
   "source": [
    "query = \"DROP TABLE IF EXISTS orders_customers_payments_join\"\n",
    "cursor.execute(query)\n",
    "\n",
    "query = \"\"\"\n",
    "CREATE TABLE orders_customers_payments_join AS\n",
    "SELECT ocj.order_id, ocj.order_purchase_timestamp, ocj.customer_id, ocj.customer_state,\n",
    "p.payment_type, p.payment_installments, p.payment_value\n",
    "FROM orders_customers_join AS ocj\n",
    "INNER JOIN payments AS p\n",
    "ON ocj.order_id = p.order_id\n",
    "\"\"\"\n",
    "\n",
    "cursor.execute(query)\n",
    "conn.commit()"
   ]
  },
  {
   "cell_type": "code",
   "execution_count": 11,
   "id": "37f577b2-df78-4c6d-80ab-04898e3c6c09",
   "metadata": {},
   "outputs": [
    {
     "data": {
      "text/html": [
       "<div>\n",
       "<style scoped>\n",
       "    .dataframe tbody tr th:only-of-type {\n",
       "        vertical-align: middle;\n",
       "    }\n",
       "\n",
       "    .dataframe tbody tr th {\n",
       "        vertical-align: top;\n",
       "    }\n",
       "\n",
       "    .dataframe thead th {\n",
       "        text-align: right;\n",
       "    }\n",
       "</style>\n",
       "<table border=\"1\" class=\"dataframe\">\n",
       "  <thead>\n",
       "    <tr style=\"text-align: right;\">\n",
       "      <th></th>\n",
       "      <th>order_id</th>\n",
       "      <th>order_purchase_timestamp</th>\n",
       "      <th>customer_id</th>\n",
       "      <th>customer_state</th>\n",
       "      <th>payment_type</th>\n",
       "      <th>payment_installments</th>\n",
       "      <th>payment_value</th>\n",
       "    </tr>\n",
       "  </thead>\n",
       "  <tbody>\n",
       "    <tr>\n",
       "      <th>0</th>\n",
       "      <td>e481f51cbdc54678b7cc49136f2d6af7</td>\n",
       "      <td>2017-10-02 10:56:33</td>\n",
       "      <td>9ef432eb6251297304e76186b10a928d</td>\n",
       "      <td>SP</td>\n",
       "      <td>credit_card</td>\n",
       "      <td>1</td>\n",
       "      <td>18.12</td>\n",
       "    </tr>\n",
       "    <tr>\n",
       "      <th>1</th>\n",
       "      <td>e481f51cbdc54678b7cc49136f2d6af7</td>\n",
       "      <td>2017-10-02 10:56:33</td>\n",
       "      <td>9ef432eb6251297304e76186b10a928d</td>\n",
       "      <td>SP</td>\n",
       "      <td>voucher</td>\n",
       "      <td>1</td>\n",
       "      <td>2.00</td>\n",
       "    </tr>\n",
       "    <tr>\n",
       "      <th>2</th>\n",
       "      <td>e481f51cbdc54678b7cc49136f2d6af7</td>\n",
       "      <td>2017-10-02 10:56:33</td>\n",
       "      <td>9ef432eb6251297304e76186b10a928d</td>\n",
       "      <td>SP</td>\n",
       "      <td>voucher</td>\n",
       "      <td>1</td>\n",
       "      <td>18.59</td>\n",
       "    </tr>\n",
       "    <tr>\n",
       "      <th>3</th>\n",
       "      <td>53cdb2fc8bc7dce0b6741e2150273451</td>\n",
       "      <td>2018-07-24 20:41:37</td>\n",
       "      <td>b0830fb4747a6c6d20dea0b8c802d7ef</td>\n",
       "      <td>BA</td>\n",
       "      <td>UPI</td>\n",
       "      <td>1</td>\n",
       "      <td>141.46</td>\n",
       "    </tr>\n",
       "    <tr>\n",
       "      <th>4</th>\n",
       "      <td>47770eb9100c2d0c44946d9cf07ec65d</td>\n",
       "      <td>2018-08-08 08:38:49</td>\n",
       "      <td>41ce2a54c0b03bf3443c3d931a367089</td>\n",
       "      <td>GO</td>\n",
       "      <td>credit_card</td>\n",
       "      <td>3</td>\n",
       "      <td>179.12</td>\n",
       "    </tr>\n",
       "  </tbody>\n",
       "</table>\n",
       "</div>"
      ],
      "text/plain": [
       "                           order_id order_purchase_timestamp  \\\n",
       "0  e481f51cbdc54678b7cc49136f2d6af7      2017-10-02 10:56:33   \n",
       "1  e481f51cbdc54678b7cc49136f2d6af7      2017-10-02 10:56:33   \n",
       "2  e481f51cbdc54678b7cc49136f2d6af7      2017-10-02 10:56:33   \n",
       "3  53cdb2fc8bc7dce0b6741e2150273451      2018-07-24 20:41:37   \n",
       "4  47770eb9100c2d0c44946d9cf07ec65d      2018-08-08 08:38:49   \n",
       "\n",
       "                        customer_id customer_state payment_type  \\\n",
       "0  9ef432eb6251297304e76186b10a928d             SP  credit_card   \n",
       "1  9ef432eb6251297304e76186b10a928d             SP      voucher   \n",
       "2  9ef432eb6251297304e76186b10a928d             SP      voucher   \n",
       "3  b0830fb4747a6c6d20dea0b8c802d7ef             BA          UPI   \n",
       "4  41ce2a54c0b03bf3443c3d931a367089             GO  credit_card   \n",
       "\n",
       "   payment_installments  payment_value  \n",
       "0                     1          18.12  \n",
       "1                     1           2.00  \n",
       "2                     1          18.59  \n",
       "3                     1         141.46  \n",
       "4                     3         179.12  "
      ]
     },
     "execution_count": 11,
     "metadata": {},
     "output_type": "execute_result"
    }
   ],
   "source": [
    "query = \"SELECT * FROM orders_customers_payments_join LIMIT 5\"\n",
    "orders_customers_payments_join_preview = pd.read_sql_query(query, conn)\n",
    "orders_customers_payments_join_preview.head()"
   ]
  },
  {
   "cell_type": "markdown",
   "id": "1f80c290-b79a-41f2-9ad0-d74c44445ba1",
   "metadata": {},
   "source": [
    "The join was successfully completed and stored in table orders_customers_payments_join."
   ]
  },
  {
   "cell_type": "markdown",
   "id": "1bdd6ba8-9711-40cd-b45e-1f281cd5b811",
   "metadata": {},
   "source": [
    "### Join 3: Tables 'orders_customers_payments_join' and 'order_items'\n",
    "Joining tables 'orders_customers_payments_join' and 'order_items' on column 'order_id' to get column 'price'."
   ]
  },
  {
   "cell_type": "code",
   "execution_count": 14,
   "id": "b040fbd1-6da3-4003-8641-82405903a56e",
   "metadata": {},
   "outputs": [],
   "source": [
    "query = \"DROP TABLE IF EXISTS orders_customers_payments_order_items_join\"\n",
    "cursor.execute(query)\n",
    "\n",
    "query = \"\"\"\n",
    "CREATE TABLE orders_customers_payments_order_items_join AS\n",
    "SELECT ocpj.order_id, ocpj.order_purchase_timestamp, ocpj.customer_id, ocpj.customer_state,\n",
    "ocpj.payment_type, ocpj.payment_installments, ocpj.payment_value,\n",
    "oi.price, oi.product_id\n",
    "FROM orders_customers_payments_join AS ocpj\n",
    "INNER JOIN order_items AS oi\n",
    "ON ocpj.order_id = oi.order_id\n",
    "\"\"\"\n",
    "\n",
    "cursor.execute(query)\n",
    "conn.commit()"
   ]
  },
  {
   "cell_type": "code",
   "execution_count": 15,
   "id": "d44758e4-e6e8-4587-b2bc-b9b275d4d716",
   "metadata": {},
   "outputs": [
    {
     "data": {
      "text/html": [
       "<div>\n",
       "<style scoped>\n",
       "    .dataframe tbody tr th:only-of-type {\n",
       "        vertical-align: middle;\n",
       "    }\n",
       "\n",
       "    .dataframe tbody tr th {\n",
       "        vertical-align: top;\n",
       "    }\n",
       "\n",
       "    .dataframe thead th {\n",
       "        text-align: right;\n",
       "    }\n",
       "</style>\n",
       "<table border=\"1\" class=\"dataframe\">\n",
       "  <thead>\n",
       "    <tr style=\"text-align: right;\">\n",
       "      <th></th>\n",
       "      <th>order_id</th>\n",
       "      <th>order_purchase_timestamp</th>\n",
       "      <th>customer_id</th>\n",
       "      <th>customer_state</th>\n",
       "      <th>payment_type</th>\n",
       "      <th>payment_installments</th>\n",
       "      <th>payment_value</th>\n",
       "      <th>price</th>\n",
       "      <th>product_id</th>\n",
       "    </tr>\n",
       "  </thead>\n",
       "  <tbody>\n",
       "    <tr>\n",
       "      <th>0</th>\n",
       "      <td>e481f51cbdc54678b7cc49136f2d6af7</td>\n",
       "      <td>2017-10-02 10:56:33</td>\n",
       "      <td>9ef432eb6251297304e76186b10a928d</td>\n",
       "      <td>SP</td>\n",
       "      <td>credit_card</td>\n",
       "      <td>1</td>\n",
       "      <td>18.12</td>\n",
       "      <td>29.99</td>\n",
       "      <td>87285b34884572647811a353c7ac498a</td>\n",
       "    </tr>\n",
       "    <tr>\n",
       "      <th>1</th>\n",
       "      <td>e481f51cbdc54678b7cc49136f2d6af7</td>\n",
       "      <td>2017-10-02 10:56:33</td>\n",
       "      <td>9ef432eb6251297304e76186b10a928d</td>\n",
       "      <td>SP</td>\n",
       "      <td>voucher</td>\n",
       "      <td>1</td>\n",
       "      <td>2.00</td>\n",
       "      <td>29.99</td>\n",
       "      <td>87285b34884572647811a353c7ac498a</td>\n",
       "    </tr>\n",
       "    <tr>\n",
       "      <th>2</th>\n",
       "      <td>e481f51cbdc54678b7cc49136f2d6af7</td>\n",
       "      <td>2017-10-02 10:56:33</td>\n",
       "      <td>9ef432eb6251297304e76186b10a928d</td>\n",
       "      <td>SP</td>\n",
       "      <td>voucher</td>\n",
       "      <td>1</td>\n",
       "      <td>18.59</td>\n",
       "      <td>29.99</td>\n",
       "      <td>87285b34884572647811a353c7ac498a</td>\n",
       "    </tr>\n",
       "    <tr>\n",
       "      <th>3</th>\n",
       "      <td>53cdb2fc8bc7dce0b6741e2150273451</td>\n",
       "      <td>2018-07-24 20:41:37</td>\n",
       "      <td>b0830fb4747a6c6d20dea0b8c802d7ef</td>\n",
       "      <td>BA</td>\n",
       "      <td>UPI</td>\n",
       "      <td>1</td>\n",
       "      <td>141.46</td>\n",
       "      <td>118.70</td>\n",
       "      <td>595fac2a385ac33a80bd5114aec74eb8</td>\n",
       "    </tr>\n",
       "    <tr>\n",
       "      <th>4</th>\n",
       "      <td>47770eb9100c2d0c44946d9cf07ec65d</td>\n",
       "      <td>2018-08-08 08:38:49</td>\n",
       "      <td>41ce2a54c0b03bf3443c3d931a367089</td>\n",
       "      <td>GO</td>\n",
       "      <td>credit_card</td>\n",
       "      <td>3</td>\n",
       "      <td>179.12</td>\n",
       "      <td>159.90</td>\n",
       "      <td>aa4383b373c6aca5d8797843e5594415</td>\n",
       "    </tr>\n",
       "  </tbody>\n",
       "</table>\n",
       "</div>"
      ],
      "text/plain": [
       "                           order_id order_purchase_timestamp  \\\n",
       "0  e481f51cbdc54678b7cc49136f2d6af7      2017-10-02 10:56:33   \n",
       "1  e481f51cbdc54678b7cc49136f2d6af7      2017-10-02 10:56:33   \n",
       "2  e481f51cbdc54678b7cc49136f2d6af7      2017-10-02 10:56:33   \n",
       "3  53cdb2fc8bc7dce0b6741e2150273451      2018-07-24 20:41:37   \n",
       "4  47770eb9100c2d0c44946d9cf07ec65d      2018-08-08 08:38:49   \n",
       "\n",
       "                        customer_id customer_state payment_type  \\\n",
       "0  9ef432eb6251297304e76186b10a928d             SP  credit_card   \n",
       "1  9ef432eb6251297304e76186b10a928d             SP      voucher   \n",
       "2  9ef432eb6251297304e76186b10a928d             SP      voucher   \n",
       "3  b0830fb4747a6c6d20dea0b8c802d7ef             BA          UPI   \n",
       "4  41ce2a54c0b03bf3443c3d931a367089             GO  credit_card   \n",
       "\n",
       "   payment_installments  payment_value   price  \\\n",
       "0                     1          18.12   29.99   \n",
       "1                     1           2.00   29.99   \n",
       "2                     1          18.59   29.99   \n",
       "3                     1         141.46  118.70   \n",
       "4                     3         179.12  159.90   \n",
       "\n",
       "                         product_id  \n",
       "0  87285b34884572647811a353c7ac498a  \n",
       "1  87285b34884572647811a353c7ac498a  \n",
       "2  87285b34884572647811a353c7ac498a  \n",
       "3  595fac2a385ac33a80bd5114aec74eb8  \n",
       "4  aa4383b373c6aca5d8797843e5594415  "
      ]
     },
     "execution_count": 15,
     "metadata": {},
     "output_type": "execute_result"
    }
   ],
   "source": [
    "query = \"SELECT * FROM orders_customers_payments_order_items_join LIMIT 5\"\n",
    "orders_customers_payments_order_items_join_preview = pd.read_sql_query(query, conn)\n",
    "orders_customers_payments_order_items_join_preview.head()"
   ]
  },
  {
   "cell_type": "markdown",
   "id": "cb159574-f1f8-47de-a04f-ba6a44c4797c",
   "metadata": {},
   "source": [
    "The join was successfully completed and stored in table orders_customers_payments_order_items_join."
   ]
  },
  {
   "cell_type": "markdown",
   "id": "132e328b-5a7b-4c51-80bd-04572dbd1d0e",
   "metadata": {},
   "source": [
    "### Join 4: Tables 'orders_customers_payments_order_items_join' and 'products'\n",
    "Joining tables 'orders_customers_payments_order_items_join' and 'products' on column 'product_id' to get column 'product_category_name'."
   ]
  },
  {
   "cell_type": "code",
   "execution_count": 16,
   "id": "b9e25835-a89b-4923-8b14-1df3609cd935",
   "metadata": {},
   "outputs": [],
   "source": [
    "query = \"DROP TABLE IF EXISTS orders_customers_payments_order_items_products_join\"\n",
    "cursor.execute(query)\n",
    "\n",
    "query = \"\"\"\n",
    "CREATE TABLE orders_customers_payments_order_items_products_join AS\n",
    "SELECT previous.order_id, previous.order_purchase_timestamp, previous.customer_id, previous.customer_state,\n",
    "previous.payment_type, previous.payment_installments, previous.payment_value, previous.price, previous.product_id,\n",
    "p.\"product category\"\n",
    "FROM orders_customers_payments_order_items_join AS previous\n",
    "INNER JOIN products AS p\n",
    "ON previous.product_id = p.product_id\n",
    "\"\"\"\n",
    "\n",
    "cursor.execute(query)\n",
    "conn.commit()"
   ]
  },
  {
   "cell_type": "code",
   "execution_count": 17,
   "id": "8c27d937-692e-4a63-b8ef-ab70b0e2e90c",
   "metadata": {},
   "outputs": [
    {
     "data": {
      "text/html": [
       "<div>\n",
       "<style scoped>\n",
       "    .dataframe tbody tr th:only-of-type {\n",
       "        vertical-align: middle;\n",
       "    }\n",
       "\n",
       "    .dataframe tbody tr th {\n",
       "        vertical-align: top;\n",
       "    }\n",
       "\n",
       "    .dataframe thead th {\n",
       "        text-align: right;\n",
       "    }\n",
       "</style>\n",
       "<table border=\"1\" class=\"dataframe\">\n",
       "  <thead>\n",
       "    <tr style=\"text-align: right;\">\n",
       "      <th></th>\n",
       "      <th>order_id</th>\n",
       "      <th>order_purchase_timestamp</th>\n",
       "      <th>customer_id</th>\n",
       "      <th>customer_state</th>\n",
       "      <th>payment_type</th>\n",
       "      <th>payment_installments</th>\n",
       "      <th>payment_value</th>\n",
       "      <th>price</th>\n",
       "      <th>product_id</th>\n",
       "      <th>product category</th>\n",
       "    </tr>\n",
       "  </thead>\n",
       "  <tbody>\n",
       "    <tr>\n",
       "      <th>0</th>\n",
       "      <td>e481f51cbdc54678b7cc49136f2d6af7</td>\n",
       "      <td>2017-10-02 10:56:33</td>\n",
       "      <td>9ef432eb6251297304e76186b10a928d</td>\n",
       "      <td>SP</td>\n",
       "      <td>credit_card</td>\n",
       "      <td>1</td>\n",
       "      <td>18.12</td>\n",
       "      <td>29.99</td>\n",
       "      <td>87285b34884572647811a353c7ac498a</td>\n",
       "      <td>housewares</td>\n",
       "    </tr>\n",
       "    <tr>\n",
       "      <th>1</th>\n",
       "      <td>e481f51cbdc54678b7cc49136f2d6af7</td>\n",
       "      <td>2017-10-02 10:56:33</td>\n",
       "      <td>9ef432eb6251297304e76186b10a928d</td>\n",
       "      <td>SP</td>\n",
       "      <td>voucher</td>\n",
       "      <td>1</td>\n",
       "      <td>2.00</td>\n",
       "      <td>29.99</td>\n",
       "      <td>87285b34884572647811a353c7ac498a</td>\n",
       "      <td>housewares</td>\n",
       "    </tr>\n",
       "    <tr>\n",
       "      <th>2</th>\n",
       "      <td>e481f51cbdc54678b7cc49136f2d6af7</td>\n",
       "      <td>2017-10-02 10:56:33</td>\n",
       "      <td>9ef432eb6251297304e76186b10a928d</td>\n",
       "      <td>SP</td>\n",
       "      <td>voucher</td>\n",
       "      <td>1</td>\n",
       "      <td>18.59</td>\n",
       "      <td>29.99</td>\n",
       "      <td>87285b34884572647811a353c7ac498a</td>\n",
       "      <td>housewares</td>\n",
       "    </tr>\n",
       "    <tr>\n",
       "      <th>3</th>\n",
       "      <td>53cdb2fc8bc7dce0b6741e2150273451</td>\n",
       "      <td>2018-07-24 20:41:37</td>\n",
       "      <td>b0830fb4747a6c6d20dea0b8c802d7ef</td>\n",
       "      <td>BA</td>\n",
       "      <td>UPI</td>\n",
       "      <td>1</td>\n",
       "      <td>141.46</td>\n",
       "      <td>118.70</td>\n",
       "      <td>595fac2a385ac33a80bd5114aec74eb8</td>\n",
       "      <td>perfumery</td>\n",
       "    </tr>\n",
       "    <tr>\n",
       "      <th>4</th>\n",
       "      <td>47770eb9100c2d0c44946d9cf07ec65d</td>\n",
       "      <td>2018-08-08 08:38:49</td>\n",
       "      <td>41ce2a54c0b03bf3443c3d931a367089</td>\n",
       "      <td>GO</td>\n",
       "      <td>credit_card</td>\n",
       "      <td>3</td>\n",
       "      <td>179.12</td>\n",
       "      <td>159.90</td>\n",
       "      <td>aa4383b373c6aca5d8797843e5594415</td>\n",
       "      <td>automotive</td>\n",
       "    </tr>\n",
       "  </tbody>\n",
       "</table>\n",
       "</div>"
      ],
      "text/plain": [
       "                           order_id order_purchase_timestamp  \\\n",
       "0  e481f51cbdc54678b7cc49136f2d6af7      2017-10-02 10:56:33   \n",
       "1  e481f51cbdc54678b7cc49136f2d6af7      2017-10-02 10:56:33   \n",
       "2  e481f51cbdc54678b7cc49136f2d6af7      2017-10-02 10:56:33   \n",
       "3  53cdb2fc8bc7dce0b6741e2150273451      2018-07-24 20:41:37   \n",
       "4  47770eb9100c2d0c44946d9cf07ec65d      2018-08-08 08:38:49   \n",
       "\n",
       "                        customer_id customer_state payment_type  \\\n",
       "0  9ef432eb6251297304e76186b10a928d             SP  credit_card   \n",
       "1  9ef432eb6251297304e76186b10a928d             SP      voucher   \n",
       "2  9ef432eb6251297304e76186b10a928d             SP      voucher   \n",
       "3  b0830fb4747a6c6d20dea0b8c802d7ef             BA          UPI   \n",
       "4  41ce2a54c0b03bf3443c3d931a367089             GO  credit_card   \n",
       "\n",
       "   payment_installments  payment_value   price  \\\n",
       "0                     1          18.12   29.99   \n",
       "1                     1           2.00   29.99   \n",
       "2                     1          18.59   29.99   \n",
       "3                     1         141.46  118.70   \n",
       "4                     3         179.12  159.90   \n",
       "\n",
       "                         product_id product category  \n",
       "0  87285b34884572647811a353c7ac498a       housewares  \n",
       "1  87285b34884572647811a353c7ac498a       housewares  \n",
       "2  87285b34884572647811a353c7ac498a       housewares  \n",
       "3  595fac2a385ac33a80bd5114aec74eb8        perfumery  \n",
       "4  aa4383b373c6aca5d8797843e5594415       automotive  "
      ]
     },
     "execution_count": 17,
     "metadata": {},
     "output_type": "execute_result"
    }
   ],
   "source": [
    "query = \"SELECT * FROM orders_customers_payments_order_items_products_join LIMIT 5\"\n",
    "orders_customers_payments_order_items_products_join_preview = pd.read_sql_query(query, conn)\n",
    "orders_customers_payments_order_items_products_join_preview.head()"
   ]
  },
  {
   "cell_type": "markdown",
   "id": "bc9d0b86-4468-48f2-8c7e-ed6c7206fe9b",
   "metadata": {},
   "source": [
    "The join was successfully completed and stored in table orders_customers_payments_order_items_products_join."
   ]
  },
  {
   "cell_type": "markdown",
   "id": "5146dd73-ddfd-4da3-9b12-150e2148b885",
   "metadata": {},
   "source": [
    "### Exporting the Final SQL Table"
   ]
  },
  {
   "cell_type": "markdown",
   "id": "e2b72279-db8a-4f7e-9f99-740058e1b4c7",
   "metadata": {},
   "source": [
    "Turning the final SQL table into a dataframe."
   ]
  },
  {
   "cell_type": "code",
   "execution_count": 18,
   "id": "02cc7ea1-1c42-4e5a-b99e-16e254b879a8",
   "metadata": {},
   "outputs": [
    {
     "data": {
      "text/html": [
       "<div>\n",
       "<style scoped>\n",
       "    .dataframe tbody tr th:only-of-type {\n",
       "        vertical-align: middle;\n",
       "    }\n",
       "\n",
       "    .dataframe tbody tr th {\n",
       "        vertical-align: top;\n",
       "    }\n",
       "\n",
       "    .dataframe thead th {\n",
       "        text-align: right;\n",
       "    }\n",
       "</style>\n",
       "<table border=\"1\" class=\"dataframe\">\n",
       "  <thead>\n",
       "    <tr style=\"text-align: right;\">\n",
       "      <th></th>\n",
       "      <th>order_id</th>\n",
       "      <th>order_purchase_timestamp</th>\n",
       "      <th>customer_id</th>\n",
       "      <th>customer_state</th>\n",
       "      <th>payment_type</th>\n",
       "      <th>payment_installments</th>\n",
       "      <th>payment_value</th>\n",
       "      <th>price</th>\n",
       "      <th>product_id</th>\n",
       "      <th>product category</th>\n",
       "    </tr>\n",
       "  </thead>\n",
       "  <tbody>\n",
       "    <tr>\n",
       "      <th>0</th>\n",
       "      <td>e481f51cbdc54678b7cc49136f2d6af7</td>\n",
       "      <td>2017-10-02 10:56:33</td>\n",
       "      <td>9ef432eb6251297304e76186b10a928d</td>\n",
       "      <td>SP</td>\n",
       "      <td>credit_card</td>\n",
       "      <td>1</td>\n",
       "      <td>18.12</td>\n",
       "      <td>29.99</td>\n",
       "      <td>87285b34884572647811a353c7ac498a</td>\n",
       "      <td>housewares</td>\n",
       "    </tr>\n",
       "    <tr>\n",
       "      <th>1</th>\n",
       "      <td>e481f51cbdc54678b7cc49136f2d6af7</td>\n",
       "      <td>2017-10-02 10:56:33</td>\n",
       "      <td>9ef432eb6251297304e76186b10a928d</td>\n",
       "      <td>SP</td>\n",
       "      <td>voucher</td>\n",
       "      <td>1</td>\n",
       "      <td>2.00</td>\n",
       "      <td>29.99</td>\n",
       "      <td>87285b34884572647811a353c7ac498a</td>\n",
       "      <td>housewares</td>\n",
       "    </tr>\n",
       "    <tr>\n",
       "      <th>2</th>\n",
       "      <td>e481f51cbdc54678b7cc49136f2d6af7</td>\n",
       "      <td>2017-10-02 10:56:33</td>\n",
       "      <td>9ef432eb6251297304e76186b10a928d</td>\n",
       "      <td>SP</td>\n",
       "      <td>voucher</td>\n",
       "      <td>1</td>\n",
       "      <td>18.59</td>\n",
       "      <td>29.99</td>\n",
       "      <td>87285b34884572647811a353c7ac498a</td>\n",
       "      <td>housewares</td>\n",
       "    </tr>\n",
       "    <tr>\n",
       "      <th>3</th>\n",
       "      <td>53cdb2fc8bc7dce0b6741e2150273451</td>\n",
       "      <td>2018-07-24 20:41:37</td>\n",
       "      <td>b0830fb4747a6c6d20dea0b8c802d7ef</td>\n",
       "      <td>BA</td>\n",
       "      <td>UPI</td>\n",
       "      <td>1</td>\n",
       "      <td>141.46</td>\n",
       "      <td>118.70</td>\n",
       "      <td>595fac2a385ac33a80bd5114aec74eb8</td>\n",
       "      <td>perfumery</td>\n",
       "    </tr>\n",
       "    <tr>\n",
       "      <th>4</th>\n",
       "      <td>47770eb9100c2d0c44946d9cf07ec65d</td>\n",
       "      <td>2018-08-08 08:38:49</td>\n",
       "      <td>41ce2a54c0b03bf3443c3d931a367089</td>\n",
       "      <td>GO</td>\n",
       "      <td>credit_card</td>\n",
       "      <td>3</td>\n",
       "      <td>179.12</td>\n",
       "      <td>159.90</td>\n",
       "      <td>aa4383b373c6aca5d8797843e5594415</td>\n",
       "      <td>automotive</td>\n",
       "    </tr>\n",
       "  </tbody>\n",
       "</table>\n",
       "</div>"
      ],
      "text/plain": [
       "                           order_id order_purchase_timestamp  \\\n",
       "0  e481f51cbdc54678b7cc49136f2d6af7      2017-10-02 10:56:33   \n",
       "1  e481f51cbdc54678b7cc49136f2d6af7      2017-10-02 10:56:33   \n",
       "2  e481f51cbdc54678b7cc49136f2d6af7      2017-10-02 10:56:33   \n",
       "3  53cdb2fc8bc7dce0b6741e2150273451      2018-07-24 20:41:37   \n",
       "4  47770eb9100c2d0c44946d9cf07ec65d      2018-08-08 08:38:49   \n",
       "\n",
       "                        customer_id customer_state payment_type  \\\n",
       "0  9ef432eb6251297304e76186b10a928d             SP  credit_card   \n",
       "1  9ef432eb6251297304e76186b10a928d             SP      voucher   \n",
       "2  9ef432eb6251297304e76186b10a928d             SP      voucher   \n",
       "3  b0830fb4747a6c6d20dea0b8c802d7ef             BA          UPI   \n",
       "4  41ce2a54c0b03bf3443c3d931a367089             GO  credit_card   \n",
       "\n",
       "   payment_installments  payment_value   price  \\\n",
       "0                     1          18.12   29.99   \n",
       "1                     1           2.00   29.99   \n",
       "2                     1          18.59   29.99   \n",
       "3                     1         141.46  118.70   \n",
       "4                     3         179.12  159.90   \n",
       "\n",
       "                         product_id product category  \n",
       "0  87285b34884572647811a353c7ac498a       housewares  \n",
       "1  87285b34884572647811a353c7ac498a       housewares  \n",
       "2  87285b34884572647811a353c7ac498a       housewares  \n",
       "3  595fac2a385ac33a80bd5114aec74eb8        perfumery  \n",
       "4  aa4383b373c6aca5d8797843e5594415       automotive  "
      ]
     },
     "execution_count": 18,
     "metadata": {},
     "output_type": "execute_result"
    }
   ],
   "source": [
    "query = \"SELECT * FROM orders_customers_payments_order_items_products_join\"\n",
    "target_sales = pd.read_sql_query(query, conn)\n",
    "target_sales.head()"
   ]
  },
  {
   "cell_type": "markdown",
   "id": "f71f72c4-8969-4ce6-a7c6-804bcfc63f02",
   "metadata": {},
   "source": [
    "Exporting the final SQL table into a csv file."
   ]
  },
  {
   "cell_type": "code",
   "execution_count": 19,
   "id": "7188a163-9cb5-4f3a-8810-f804d5c255b0",
   "metadata": {},
   "outputs": [],
   "source": [
    "target_sales.to_csv(\"target_sales_full.csv\", index=False)"
   ]
  },
  {
   "cell_type": "markdown",
   "id": "49c2c0ce-b8de-4e56-9231-de83cc308fc8",
   "metadata": {},
   "source": [
    "## Data Cleaning"
   ]
  },
  {
   "cell_type": "code",
   "execution_count": 20,
   "id": "662b41b0-7819-40d7-a957-9f9bcf750af8",
   "metadata": {},
   "outputs": [
    {
     "data": {
      "text/html": [
       "<div>\n",
       "<style scoped>\n",
       "    .dataframe tbody tr th:only-of-type {\n",
       "        vertical-align: middle;\n",
       "    }\n",
       "\n",
       "    .dataframe tbody tr th {\n",
       "        vertical-align: top;\n",
       "    }\n",
       "\n",
       "    .dataframe thead th {\n",
       "        text-align: right;\n",
       "    }\n",
       "</style>\n",
       "<table border=\"1\" class=\"dataframe\">\n",
       "  <thead>\n",
       "    <tr style=\"text-align: right;\">\n",
       "      <th></th>\n",
       "      <th>order_id</th>\n",
       "      <th>order_purchase_timestamp</th>\n",
       "      <th>customer_id</th>\n",
       "      <th>customer_state</th>\n",
       "      <th>payment_type</th>\n",
       "      <th>payment_installments</th>\n",
       "      <th>payment_value</th>\n",
       "      <th>price</th>\n",
       "      <th>product_id</th>\n",
       "      <th>product category</th>\n",
       "    </tr>\n",
       "  </thead>\n",
       "  <tbody>\n",
       "    <tr>\n",
       "      <th>0</th>\n",
       "      <td>e481f51cbdc54678b7cc49136f2d6af7</td>\n",
       "      <td>2017-10-02 10:56:33</td>\n",
       "      <td>9ef432eb6251297304e76186b10a928d</td>\n",
       "      <td>SP</td>\n",
       "      <td>credit_card</td>\n",
       "      <td>1</td>\n",
       "      <td>18.12</td>\n",
       "      <td>29.99</td>\n",
       "      <td>87285b34884572647811a353c7ac498a</td>\n",
       "      <td>housewares</td>\n",
       "    </tr>\n",
       "    <tr>\n",
       "      <th>1</th>\n",
       "      <td>e481f51cbdc54678b7cc49136f2d6af7</td>\n",
       "      <td>2017-10-02 10:56:33</td>\n",
       "      <td>9ef432eb6251297304e76186b10a928d</td>\n",
       "      <td>SP</td>\n",
       "      <td>voucher</td>\n",
       "      <td>1</td>\n",
       "      <td>2.00</td>\n",
       "      <td>29.99</td>\n",
       "      <td>87285b34884572647811a353c7ac498a</td>\n",
       "      <td>housewares</td>\n",
       "    </tr>\n",
       "    <tr>\n",
       "      <th>2</th>\n",
       "      <td>e481f51cbdc54678b7cc49136f2d6af7</td>\n",
       "      <td>2017-10-02 10:56:33</td>\n",
       "      <td>9ef432eb6251297304e76186b10a928d</td>\n",
       "      <td>SP</td>\n",
       "      <td>voucher</td>\n",
       "      <td>1</td>\n",
       "      <td>18.59</td>\n",
       "      <td>29.99</td>\n",
       "      <td>87285b34884572647811a353c7ac498a</td>\n",
       "      <td>housewares</td>\n",
       "    </tr>\n",
       "    <tr>\n",
       "      <th>3</th>\n",
       "      <td>53cdb2fc8bc7dce0b6741e2150273451</td>\n",
       "      <td>2018-07-24 20:41:37</td>\n",
       "      <td>b0830fb4747a6c6d20dea0b8c802d7ef</td>\n",
       "      <td>BA</td>\n",
       "      <td>UPI</td>\n",
       "      <td>1</td>\n",
       "      <td>141.46</td>\n",
       "      <td>118.70</td>\n",
       "      <td>595fac2a385ac33a80bd5114aec74eb8</td>\n",
       "      <td>perfumery</td>\n",
       "    </tr>\n",
       "    <tr>\n",
       "      <th>4</th>\n",
       "      <td>47770eb9100c2d0c44946d9cf07ec65d</td>\n",
       "      <td>2018-08-08 08:38:49</td>\n",
       "      <td>41ce2a54c0b03bf3443c3d931a367089</td>\n",
       "      <td>GO</td>\n",
       "      <td>credit_card</td>\n",
       "      <td>3</td>\n",
       "      <td>179.12</td>\n",
       "      <td>159.90</td>\n",
       "      <td>aa4383b373c6aca5d8797843e5594415</td>\n",
       "      <td>automotive</td>\n",
       "    </tr>\n",
       "  </tbody>\n",
       "</table>\n",
       "</div>"
      ],
      "text/plain": [
       "                           order_id order_purchase_timestamp  \\\n",
       "0  e481f51cbdc54678b7cc49136f2d6af7      2017-10-02 10:56:33   \n",
       "1  e481f51cbdc54678b7cc49136f2d6af7      2017-10-02 10:56:33   \n",
       "2  e481f51cbdc54678b7cc49136f2d6af7      2017-10-02 10:56:33   \n",
       "3  53cdb2fc8bc7dce0b6741e2150273451      2018-07-24 20:41:37   \n",
       "4  47770eb9100c2d0c44946d9cf07ec65d      2018-08-08 08:38:49   \n",
       "\n",
       "                        customer_id customer_state payment_type  \\\n",
       "0  9ef432eb6251297304e76186b10a928d             SP  credit_card   \n",
       "1  9ef432eb6251297304e76186b10a928d             SP      voucher   \n",
       "2  9ef432eb6251297304e76186b10a928d             SP      voucher   \n",
       "3  b0830fb4747a6c6d20dea0b8c802d7ef             BA          UPI   \n",
       "4  41ce2a54c0b03bf3443c3d931a367089             GO  credit_card   \n",
       "\n",
       "   payment_installments  payment_value   price  \\\n",
       "0                     1          18.12   29.99   \n",
       "1                     1           2.00   29.99   \n",
       "2                     1          18.59   29.99   \n",
       "3                     1         141.46  118.70   \n",
       "4                     3         179.12  159.90   \n",
       "\n",
       "                         product_id product category  \n",
       "0  87285b34884572647811a353c7ac498a       housewares  \n",
       "1  87285b34884572647811a353c7ac498a       housewares  \n",
       "2  87285b34884572647811a353c7ac498a       housewares  \n",
       "3  595fac2a385ac33a80bd5114aec74eb8        perfumery  \n",
       "4  aa4383b373c6aca5d8797843e5594415       automotive  "
      ]
     },
     "metadata": {},
     "output_type": "display_data"
    },
    {
     "data": {
      "text/plain": [
       "(117601, 10)"
      ]
     },
     "execution_count": 20,
     "metadata": {},
     "output_type": "execute_result"
    }
   ],
   "source": [
    "display(target_sales.head())\n",
    "target_sales.shape"
   ]
  },
  {
   "cell_type": "markdown",
   "id": "7128fcaa-29a0-4544-8300-169b4c2e72fc",
   "metadata": {},
   "source": [
    "### Initial Thoughts\n",
    "- There are 117,601 rows and 10 columns.\n",
    "- No major issues are detected.\n",
    "- The 'product category' column might benefit from capitalization."
   ]
  },
  {
   "cell_type": "markdown",
   "id": "a8794197-4590-4f4c-a486-6ef22fe83b0c",
   "metadata": {},
   "source": [
    "### Addressing 0 Values"
   ]
  },
  {
   "cell_type": "markdown",
   "id": "7b669fc4-fc4b-4b95-899d-396309400ac3",
   "metadata": {},
   "source": [
    "I will first identify the 0 values in all columns."
   ]
  },
  {
   "cell_type": "code",
   "execution_count": 21,
   "id": "4c13112d-2010-43b5-93d4-a7507368c571",
   "metadata": {},
   "outputs": [
    {
     "data": {
      "text/plain": [
       "order_id                    0\n",
       "order_purchase_timestamp    0\n",
       "customer_id                 0\n",
       "customer_state              0\n",
       "payment_type                0\n",
       "payment_installments        3\n",
       "payment_value               6\n",
       "price                       0\n",
       "product_id                  0\n",
       "product category            0\n",
       "dtype: int64"
      ]
     },
     "execution_count": 21,
     "metadata": {},
     "output_type": "execute_result"
    }
   ],
   "source": [
    "(target_sales == 0).sum()"
   ]
  },
  {
   "cell_type": "markdown",
   "id": "6f32cf2e-8164-45e3-bc21-315800bdfb19",
   "metadata": {},
   "source": [
    "There are three 0 values in the 'payment_installments' column. There are six 0 values in the 'payment_value' column. I will first examine the rows with 0 values in the 'payment_installments' column."
   ]
  },
  {
   "cell_type": "code",
   "execution_count": 22,
   "id": "aa8b7990-0b2f-49f0-8e39-5f1b3572f2ba",
   "metadata": {},
   "outputs": [
    {
     "data": {
      "text/html": [
       "<div>\n",
       "<style scoped>\n",
       "    .dataframe tbody tr th:only-of-type {\n",
       "        vertical-align: middle;\n",
       "    }\n",
       "\n",
       "    .dataframe tbody tr th {\n",
       "        vertical-align: top;\n",
       "    }\n",
       "\n",
       "    .dataframe thead th {\n",
       "        text-align: right;\n",
       "    }\n",
       "</style>\n",
       "<table border=\"1\" class=\"dataframe\">\n",
       "  <thead>\n",
       "    <tr style=\"text-align: right;\">\n",
       "      <th></th>\n",
       "      <th>order_id</th>\n",
       "      <th>order_purchase_timestamp</th>\n",
       "      <th>customer_id</th>\n",
       "      <th>customer_state</th>\n",
       "      <th>payment_type</th>\n",
       "      <th>payment_installments</th>\n",
       "      <th>payment_value</th>\n",
       "      <th>price</th>\n",
       "      <th>product_id</th>\n",
       "      <th>product category</th>\n",
       "    </tr>\n",
       "  </thead>\n",
       "  <tbody>\n",
       "    <tr>\n",
       "      <th>75258</th>\n",
       "      <td>744bade1fcf9ff3f31d860ace076d422</td>\n",
       "      <td>2018-04-22 11:34:42</td>\n",
       "      <td>5e5794daaa13f73e2f1cdb4114529843</td>\n",
       "      <td>SP</td>\n",
       "      <td>credit_card</td>\n",
       "      <td>0</td>\n",
       "      <td>58.69</td>\n",
       "      <td>45.90</td>\n",
       "      <td>0cf573090c66bb30ac5e53c82bdb0403</td>\n",
       "      <td>telephony</td>\n",
       "    </tr>\n",
       "    <tr>\n",
       "      <th>78364</th>\n",
       "      <td>1a57108394169c0b47d8f876acc9ba2d</td>\n",
       "      <td>2018-05-15 16:25:14</td>\n",
       "      <td>48ebb06cf56dba9d009230cc751bb195</td>\n",
       "      <td>BA</td>\n",
       "      <td>credit_card</td>\n",
       "      <td>0</td>\n",
       "      <td>129.94</td>\n",
       "      <td>41.69</td>\n",
       "      <td>db35a562fb6ba63e19fa42a15349dc04</td>\n",
       "      <td>housewares</td>\n",
       "    </tr>\n",
       "    <tr>\n",
       "      <th>78365</th>\n",
       "      <td>1a57108394169c0b47d8f876acc9ba2d</td>\n",
       "      <td>2018-05-15 16:25:14</td>\n",
       "      <td>48ebb06cf56dba9d009230cc751bb195</td>\n",
       "      <td>BA</td>\n",
       "      <td>credit_card</td>\n",
       "      <td>0</td>\n",
       "      <td>129.94</td>\n",
       "      <td>41.69</td>\n",
       "      <td>db35a562fb6ba63e19fa42a15349dc04</td>\n",
       "      <td>housewares</td>\n",
       "    </tr>\n",
       "  </tbody>\n",
       "</table>\n",
       "</div>"
      ],
      "text/plain": [
       "                               order_id order_purchase_timestamp  \\\n",
       "75258  744bade1fcf9ff3f31d860ace076d422      2018-04-22 11:34:42   \n",
       "78364  1a57108394169c0b47d8f876acc9ba2d      2018-05-15 16:25:14   \n",
       "78365  1a57108394169c0b47d8f876acc9ba2d      2018-05-15 16:25:14   \n",
       "\n",
       "                            customer_id customer_state payment_type  \\\n",
       "75258  5e5794daaa13f73e2f1cdb4114529843             SP  credit_card   \n",
       "78364  48ebb06cf56dba9d009230cc751bb195             BA  credit_card   \n",
       "78365  48ebb06cf56dba9d009230cc751bb195             BA  credit_card   \n",
       "\n",
       "       payment_installments  payment_value  price  \\\n",
       "75258                     0          58.69  45.90   \n",
       "78364                     0         129.94  41.69   \n",
       "78365                     0         129.94  41.69   \n",
       "\n",
       "                             product_id product category  \n",
       "75258  0cf573090c66bb30ac5e53c82bdb0403        telephony  \n",
       "78364  db35a562fb6ba63e19fa42a15349dc04       housewares  \n",
       "78365  db35a562fb6ba63e19fa42a15349dc04       housewares  "
      ]
     },
     "execution_count": 22,
     "metadata": {},
     "output_type": "execute_result"
    }
   ],
   "source": [
    "target_sales[(target_sales['payment_installments'] == 0)]"
   ]
  },
  {
   "cell_type": "markdown",
   "id": "f8883d16-f700-4295-8e31-9ca6bdce6731",
   "metadata": {},
   "source": [
    "The first row with an index of 75258 does not seem to have any other errors in the other columns.\n",
    "\n",
    "The two other rows with an index of 78364 and 78365 seem to be duplicate rows. Nothing unusual is detected in the other columns.\n",
    "\n",
    "A payment installment of 0 should not be possible in the real world. Therefore, I will remove these three rows."
   ]
  },
  {
   "cell_type": "code",
   "execution_count": 23,
   "id": "f2b23524-5546-46ce-84d3-e4a089fed182",
   "metadata": {},
   "outputs": [],
   "source": [
    "target_sales = target_sales[target_sales['payment_installments'] != 0]"
   ]
  },
  {
   "cell_type": "code",
   "execution_count": 24,
   "id": "40a50d23-f9fb-4cfc-92ad-d0ff27c47e0c",
   "metadata": {},
   "outputs": [
    {
     "data": {
      "text/plain": [
       "np.int64(0)"
      ]
     },
     "execution_count": 24,
     "metadata": {},
     "output_type": "execute_result"
    }
   ],
   "source": [
    "(target_sales['payment_installments'] == 0).sum()"
   ]
  },
  {
   "cell_type": "markdown",
   "id": "3ef7ca5c-9677-428f-bc14-d49e2f083b5a",
   "metadata": {},
   "source": [
    "The rows with 0 values in the payment_installments column were successfully removed.\n",
    "\n",
    "I will now look at the rows with 0 values in the payment_value column."
   ]
  },
  {
   "cell_type": "code",
   "execution_count": 25,
   "id": "03d25d72-734b-4239-83eb-7b8f8caac1df",
   "metadata": {},
   "outputs": [
    {
     "data": {
      "text/html": [
       "<div>\n",
       "<style scoped>\n",
       "    .dataframe tbody tr th:only-of-type {\n",
       "        vertical-align: middle;\n",
       "    }\n",
       "\n",
       "    .dataframe tbody tr th {\n",
       "        vertical-align: top;\n",
       "    }\n",
       "\n",
       "    .dataframe thead th {\n",
       "        text-align: right;\n",
       "    }\n",
       "</style>\n",
       "<table border=\"1\" class=\"dataframe\">\n",
       "  <thead>\n",
       "    <tr style=\"text-align: right;\">\n",
       "      <th></th>\n",
       "      <th>order_id</th>\n",
       "      <th>order_purchase_timestamp</th>\n",
       "      <th>customer_id</th>\n",
       "      <th>customer_state</th>\n",
       "      <th>payment_type</th>\n",
       "      <th>payment_installments</th>\n",
       "      <th>payment_value</th>\n",
       "      <th>price</th>\n",
       "      <th>product_id</th>\n",
       "      <th>product category</th>\n",
       "    </tr>\n",
       "  </thead>\n",
       "  <tbody>\n",
       "    <tr>\n",
       "      <th>500</th>\n",
       "      <td>45ed6e85398a87c253db47c2d9f48216</td>\n",
       "      <td>2017-06-08 21:18:45</td>\n",
       "      <td>8eab8f9b3c744b76b65f7a2c0c8f2d6c</td>\n",
       "      <td>GO</td>\n",
       "      <td>voucher</td>\n",
       "      <td>1</td>\n",
       "      <td>0.0</td>\n",
       "      <td>56.99</td>\n",
       "      <td>75d6b6963340c6063f7f4cfcccfe6a30</td>\n",
       "      <td>perfumery</td>\n",
       "    </tr>\n",
       "    <tr>\n",
       "      <th>30652</th>\n",
       "      <td>fa65dad1b0e818e3ccc5cb0e39231352</td>\n",
       "      <td>2017-04-20 12:45:34</td>\n",
       "      <td>9af2372a1e49340278e7c1ef8d749f34</td>\n",
       "      <td>MT</td>\n",
       "      <td>voucher</td>\n",
       "      <td>1</td>\n",
       "      <td>0.0</td>\n",
       "      <td>392.55</td>\n",
       "      <td>1aecdb5fa3add74e385f25c6c527a462</td>\n",
       "      <td>Garden tools</td>\n",
       "    </tr>\n",
       "    <tr>\n",
       "      <th>30653</th>\n",
       "      <td>fa65dad1b0e818e3ccc5cb0e39231352</td>\n",
       "      <td>2017-04-20 12:45:34</td>\n",
       "      <td>9af2372a1e49340278e7c1ef8d749f34</td>\n",
       "      <td>MT</td>\n",
       "      <td>voucher</td>\n",
       "      <td>1</td>\n",
       "      <td>0.0</td>\n",
       "      <td>392.55</td>\n",
       "      <td>1aecdb5fa3add74e385f25c6c527a462</td>\n",
       "      <td>Garden tools</td>\n",
       "    </tr>\n",
       "    <tr>\n",
       "      <th>38267</th>\n",
       "      <td>6ccb433e00daae1283ccc956189c82ae</td>\n",
       "      <td>2017-10-26 23:51:35</td>\n",
       "      <td>843b211abe7b0264dd4a69eafc5bdf43</td>\n",
       "      <td>RJ</td>\n",
       "      <td>voucher</td>\n",
       "      <td>1</td>\n",
       "      <td>0.0</td>\n",
       "      <td>94.00</td>\n",
       "      <td>2ee4be9805f228255a38a6f9b03fff1a</td>\n",
       "      <td>sport leisure</td>\n",
       "    </tr>\n",
       "    <tr>\n",
       "      <th>101307</th>\n",
       "      <td>b23878b3e8eb4d25a158f57d96331b18</td>\n",
       "      <td>2017-05-27 19:20:24</td>\n",
       "      <td>648121b599d98c420ef93f6135f8c80c</td>\n",
       "      <td>ES</td>\n",
       "      <td>voucher</td>\n",
       "      <td>1</td>\n",
       "      <td>0.0</td>\n",
       "      <td>135.30</td>\n",
       "      <td>e306ca54c91b21392317d5b4632c9fe3</td>\n",
       "      <td>Games consoles</td>\n",
       "    </tr>\n",
       "    <tr>\n",
       "      <th>114647</th>\n",
       "      <td>8bcbe01d44d147f901cd3192671144db</td>\n",
       "      <td>2018-01-24 23:24:14</td>\n",
       "      <td>f2def7f64f36952f2f5a9791f0285f34</td>\n",
       "      <td>RJ</td>\n",
       "      <td>voucher</td>\n",
       "      <td>1</td>\n",
       "      <td>0.0</td>\n",
       "      <td>59.00</td>\n",
       "      <td>85d4c1a46f08f730de651ea6f6645313</td>\n",
       "      <td>stationary store</td>\n",
       "    </tr>\n",
       "  </tbody>\n",
       "</table>\n",
       "</div>"
      ],
      "text/plain": [
       "                                order_id order_purchase_timestamp  \\\n",
       "500     45ed6e85398a87c253db47c2d9f48216      2017-06-08 21:18:45   \n",
       "30652   fa65dad1b0e818e3ccc5cb0e39231352      2017-04-20 12:45:34   \n",
       "30653   fa65dad1b0e818e3ccc5cb0e39231352      2017-04-20 12:45:34   \n",
       "38267   6ccb433e00daae1283ccc956189c82ae      2017-10-26 23:51:35   \n",
       "101307  b23878b3e8eb4d25a158f57d96331b18      2017-05-27 19:20:24   \n",
       "114647  8bcbe01d44d147f901cd3192671144db      2018-01-24 23:24:14   \n",
       "\n",
       "                             customer_id customer_state payment_type  \\\n",
       "500     8eab8f9b3c744b76b65f7a2c0c8f2d6c             GO      voucher   \n",
       "30652   9af2372a1e49340278e7c1ef8d749f34             MT      voucher   \n",
       "30653   9af2372a1e49340278e7c1ef8d749f34             MT      voucher   \n",
       "38267   843b211abe7b0264dd4a69eafc5bdf43             RJ      voucher   \n",
       "101307  648121b599d98c420ef93f6135f8c80c             ES      voucher   \n",
       "114647  f2def7f64f36952f2f5a9791f0285f34             RJ      voucher   \n",
       "\n",
       "        payment_installments  payment_value   price  \\\n",
       "500                        1            0.0   56.99   \n",
       "30652                      1            0.0  392.55   \n",
       "30653                      1            0.0  392.55   \n",
       "38267                      1            0.0   94.00   \n",
       "101307                     1            0.0  135.30   \n",
       "114647                     1            0.0   59.00   \n",
       "\n",
       "                              product_id  product category  \n",
       "500     75d6b6963340c6063f7f4cfcccfe6a30         perfumery  \n",
       "30652   1aecdb5fa3add74e385f25c6c527a462      Garden tools  \n",
       "30653   1aecdb5fa3add74e385f25c6c527a462      Garden tools  \n",
       "38267   2ee4be9805f228255a38a6f9b03fff1a     sport leisure  \n",
       "101307  e306ca54c91b21392317d5b4632c9fe3    Games consoles  \n",
       "114647  85d4c1a46f08f730de651ea6f6645313  stationary store  "
      ]
     },
     "execution_count": 25,
     "metadata": {},
     "output_type": "execute_result"
    }
   ],
   "source": [
    "target_sales[(target_sales['payment_value'] == 0)]"
   ]
  },
  {
   "cell_type": "markdown",
   "id": "13432a39-a816-42db-b995-4bd7677a2466",
   "metadata": {},
   "source": [
    "The rows with index 30652 and 30653 seem to be duplicate rows.\n",
    "\n",
    "No unusual issues were found within the other column values.\n",
    "\n",
    "All of the rows have a payment type of 'voucher' which might signify the use of a discount. This may explain why the payment_value is 0.\n",
    "\n",
    "Since vouchers are used in the real world and it is possible to have a payment value of 0 in the real world, I will leave these rows in the dataset. The duplicate rows will be addressed further in this notebook."
   ]
  },
  {
   "cell_type": "markdown",
   "id": "5182dbf1-13c2-45d5-96c7-c9babbf02643",
   "metadata": {},
   "source": [
    "### Checking for Missing Values"
   ]
  },
  {
   "cell_type": "code",
   "execution_count": 26,
   "id": "7d2c6330-053a-4a73-85c1-4f71239aee20",
   "metadata": {},
   "outputs": [
    {
     "data": {
      "text/plain": [
       "order_id                       0\n",
       "order_purchase_timestamp       0\n",
       "customer_id                    0\n",
       "customer_state                 0\n",
       "payment_type                   0\n",
       "payment_installments           0\n",
       "payment_value                  0\n",
       "price                          0\n",
       "product_id                     0\n",
       "product category            1698\n",
       "dtype: int64"
      ]
     },
     "execution_count": 26,
     "metadata": {},
     "output_type": "execute_result"
    }
   ],
   "source": [
    "target_sales.isnull().sum()"
   ]
  },
  {
   "cell_type": "markdown",
   "id": "b45f86ca-4ef4-4d45-8dc9-ee3d705634a3",
   "metadata": {},
   "source": [
    "The only column with missing values is 'product category'. I will examine a few rows."
   ]
  },
  {
   "cell_type": "code",
   "execution_count": 27,
   "id": "bd8860a5-4247-4709-81ba-bc822998f38d",
   "metadata": {},
   "outputs": [
    {
     "data": {
      "text/html": [
       "<div>\n",
       "<style scoped>\n",
       "    .dataframe tbody tr th:only-of-type {\n",
       "        vertical-align: middle;\n",
       "    }\n",
       "\n",
       "    .dataframe tbody tr th {\n",
       "        vertical-align: top;\n",
       "    }\n",
       "\n",
       "    .dataframe thead th {\n",
       "        text-align: right;\n",
       "    }\n",
       "</style>\n",
       "<table border=\"1\" class=\"dataframe\">\n",
       "  <thead>\n",
       "    <tr style=\"text-align: right;\">\n",
       "      <th></th>\n",
       "      <th>order_id</th>\n",
       "      <th>order_purchase_timestamp</th>\n",
       "      <th>customer_id</th>\n",
       "      <th>customer_state</th>\n",
       "      <th>payment_type</th>\n",
       "      <th>payment_installments</th>\n",
       "      <th>payment_value</th>\n",
       "      <th>price</th>\n",
       "      <th>product_id</th>\n",
       "      <th>product category</th>\n",
       "    </tr>\n",
       "  </thead>\n",
       "  <tbody>\n",
       "    <tr>\n",
       "      <th>8</th>\n",
       "      <td>136cce7faa42fdb2cefd53fdc79a6098</td>\n",
       "      <td>2017-04-11 12:22:08</td>\n",
       "      <td>ed0271e0b7da060a393796590e7b737a</td>\n",
       "      <td>RS</td>\n",
       "      <td>credit_card</td>\n",
       "      <td>1</td>\n",
       "      <td>65.95</td>\n",
       "      <td>49.90</td>\n",
       "      <td>a1804276d9941ac0733cfd409f5206eb</td>\n",
       "      <td>None</td>\n",
       "    </tr>\n",
       "    <tr>\n",
       "      <th>129</th>\n",
       "      <td>bfe42c22ecbf90bc9f35cf591270b6a7</td>\n",
       "      <td>2018-01-27 22:04:34</td>\n",
       "      <td>803ac05904124294f8767894d6da532b</td>\n",
       "      <td>MG</td>\n",
       "      <td>credit_card</td>\n",
       "      <td>1</td>\n",
       "      <td>42.40</td>\n",
       "      <td>27.30</td>\n",
       "      <td>71225f49be70df4297892f6a5fa62171</td>\n",
       "      <td>None</td>\n",
       "    </tr>\n",
       "    <tr>\n",
       "      <th>221</th>\n",
       "      <td>58ac1947c1a9067b9f416cba6d844a3f</td>\n",
       "      <td>2017-09-13 09:18:50</td>\n",
       "      <td>ee8e1d37f563ecc11cc4dcb4dfd794c2</td>\n",
       "      <td>SP</td>\n",
       "      <td>credit_card</td>\n",
       "      <td>5</td>\n",
       "      <td>124.16</td>\n",
       "      <td>110.00</td>\n",
       "      <td>9820e04e332fc450d6fd975befc1bc28</td>\n",
       "      <td>None</td>\n",
       "    </tr>\n",
       "    <tr>\n",
       "      <th>274</th>\n",
       "      <td>e22b71f6e4a481445ec4527cb4c405f7</td>\n",
       "      <td>2017-04-22 13:48:18</td>\n",
       "      <td>1faf89c8f142db3fca6cf314c51a37b6</td>\n",
       "      <td>MG</td>\n",
       "      <td>credit_card</td>\n",
       "      <td>3</td>\n",
       "      <td>34.24</td>\n",
       "      <td>22.50</td>\n",
       "      <td>3bc5164bc7f4be77002d6651da65c98c</td>\n",
       "      <td>None</td>\n",
       "    </tr>\n",
       "    <tr>\n",
       "      <th>316</th>\n",
       "      <td>a094215e786240fcfefb83d18036a1cd</td>\n",
       "      <td>2018-02-08 18:56:45</td>\n",
       "      <td>86acfb656743da0c113d176832c9d535</td>\n",
       "      <td>SP</td>\n",
       "      <td>credit_card</td>\n",
       "      <td>1</td>\n",
       "      <td>132.05</td>\n",
       "      <td>122.99</td>\n",
       "      <td>5a848e4ab52fd5445cdc07aab1c40e48</td>\n",
       "      <td>None</td>\n",
       "    </tr>\n",
       "  </tbody>\n",
       "</table>\n",
       "</div>"
      ],
      "text/plain": [
       "                             order_id order_purchase_timestamp  \\\n",
       "8    136cce7faa42fdb2cefd53fdc79a6098      2017-04-11 12:22:08   \n",
       "129  bfe42c22ecbf90bc9f35cf591270b6a7      2018-01-27 22:04:34   \n",
       "221  58ac1947c1a9067b9f416cba6d844a3f      2017-09-13 09:18:50   \n",
       "274  e22b71f6e4a481445ec4527cb4c405f7      2017-04-22 13:48:18   \n",
       "316  a094215e786240fcfefb83d18036a1cd      2018-02-08 18:56:45   \n",
       "\n",
       "                          customer_id customer_state payment_type  \\\n",
       "8    ed0271e0b7da060a393796590e7b737a             RS  credit_card   \n",
       "129  803ac05904124294f8767894d6da532b             MG  credit_card   \n",
       "221  ee8e1d37f563ecc11cc4dcb4dfd794c2             SP  credit_card   \n",
       "274  1faf89c8f142db3fca6cf314c51a37b6             MG  credit_card   \n",
       "316  86acfb656743da0c113d176832c9d535             SP  credit_card   \n",
       "\n",
       "     payment_installments  payment_value   price  \\\n",
       "8                       1          65.95   49.90   \n",
       "129                     1          42.40   27.30   \n",
       "221                     5         124.16  110.00   \n",
       "274                     3          34.24   22.50   \n",
       "316                     1         132.05  122.99   \n",
       "\n",
       "                           product_id product category  \n",
       "8    a1804276d9941ac0733cfd409f5206eb             None  \n",
       "129  71225f49be70df4297892f6a5fa62171             None  \n",
       "221  9820e04e332fc450d6fd975befc1bc28             None  \n",
       "274  3bc5164bc7f4be77002d6651da65c98c             None  \n",
       "316  5a848e4ab52fd5445cdc07aab1c40e48             None  "
      ]
     },
     "execution_count": 27,
     "metadata": {},
     "output_type": "execute_result"
    }
   ],
   "source": [
    "target_sales[target_sales['product category'].isnull()].head()"
   ]
  },
  {
   "cell_type": "markdown",
   "id": "29d5da50-cd6a-488e-983f-e38e30516a17",
   "metadata": {},
   "source": [
    "Since there are 1,698 rows with missing 'product category' values, I will fill these rows with 'Unknown' to keep as much data as possible."
   ]
  },
  {
   "cell_type": "code",
   "execution_count": 28,
   "id": "7bf6d4d1-2a99-4a7d-af02-92eda6e8e391",
   "metadata": {},
   "outputs": [],
   "source": [
    "target_sales['product category'] = target_sales['product category'].fillna('Unknown')"
   ]
  },
  {
   "cell_type": "code",
   "execution_count": 29,
   "id": "853f0de5-0cf8-413b-905e-3d9912702429",
   "metadata": {},
   "outputs": [
    {
     "data": {
      "text/plain": [
       "order_id                    0\n",
       "order_purchase_timestamp    0\n",
       "customer_id                 0\n",
       "customer_state              0\n",
       "payment_type                0\n",
       "payment_installments        0\n",
       "payment_value               0\n",
       "price                       0\n",
       "product_id                  0\n",
       "product category            0\n",
       "dtype: int64"
      ]
     },
     "execution_count": 29,
     "metadata": {},
     "output_type": "execute_result"
    }
   ],
   "source": [
    "target_sales.isnull().sum()"
   ]
  },
  {
   "cell_type": "markdown",
   "id": "590a67f4-d449-481d-ad3a-2ba76b39872e",
   "metadata": {},
   "source": [
    "The missing values were successfully filled."
   ]
  },
  {
   "cell_type": "markdown",
   "id": "46fc1ad6-6d39-4d4c-a6f6-41990c685173",
   "metadata": {},
   "source": [
    "### Addressing Duplicate Rows\n",
    "Next, I will check for duplicate rows that may have to be removed."
   ]
  },
  {
   "cell_type": "code",
   "execution_count": 31,
   "id": "99872268-59f4-4034-9d81-fee89c4bce02",
   "metadata": {},
   "outputs": [
    {
     "data": {
      "text/plain": [
       "np.int64(11213)"
      ]
     },
     "execution_count": 31,
     "metadata": {},
     "output_type": "execute_result"
    }
   ],
   "source": [
    "target_sales.duplicated().sum()"
   ]
  },
  {
   "cell_type": "markdown",
   "id": "e715a748-c23d-4e1e-8d87-b86e3718ea5b",
   "metadata": {},
   "source": [
    "There are 11,213 duplicate rows. I will examine these rows and remove them."
   ]
  },
  {
   "cell_type": "code",
   "execution_count": 32,
   "id": "c86abffa-2085-4e52-a2c8-f1eedafebc61",
   "metadata": {},
   "outputs": [
    {
     "data": {
      "text/html": [
       "<div>\n",
       "<style scoped>\n",
       "    .dataframe tbody tr th:only-of-type {\n",
       "        vertical-align: middle;\n",
       "    }\n",
       "\n",
       "    .dataframe tbody tr th {\n",
       "        vertical-align: top;\n",
       "    }\n",
       "\n",
       "    .dataframe thead th {\n",
       "        text-align: right;\n",
       "    }\n",
       "</style>\n",
       "<table border=\"1\" class=\"dataframe\">\n",
       "  <thead>\n",
       "    <tr style=\"text-align: right;\">\n",
       "      <th></th>\n",
       "      <th>order_id</th>\n",
       "      <th>order_purchase_timestamp</th>\n",
       "      <th>customer_id</th>\n",
       "      <th>customer_state</th>\n",
       "      <th>payment_type</th>\n",
       "      <th>payment_installments</th>\n",
       "      <th>payment_value</th>\n",
       "      <th>price</th>\n",
       "      <th>product_id</th>\n",
       "      <th>product category</th>\n",
       "    </tr>\n",
       "  </thead>\n",
       "  <tbody>\n",
       "    <tr>\n",
       "      <th>14</th>\n",
       "      <td>e6ce16cb79ec1d90b1da9085a6118aeb</td>\n",
       "      <td>2017-05-16 19:41:10</td>\n",
       "      <td>494dded5b201313c64ed7f100595b95c</td>\n",
       "      <td>RJ</td>\n",
       "      <td>credit_card</td>\n",
       "      <td>1</td>\n",
       "      <td>259.06</td>\n",
       "      <td>99.00</td>\n",
       "      <td>08574b074924071f4e201e151b152b4e</td>\n",
       "      <td>Garden tools</td>\n",
       "    </tr>\n",
       "    <tr>\n",
       "      <th>60</th>\n",
       "      <td>9faeb9b2746b9d7526aef5acb08e2aa0</td>\n",
       "      <td>2018-07-26 14:39:59</td>\n",
       "      <td>79183cd650e2bb0d475b0067d45946ac</td>\n",
       "      <td>RS</td>\n",
       "      <td>credit_card</td>\n",
       "      <td>2</td>\n",
       "      <td>151.04</td>\n",
       "      <td>60.00</td>\n",
       "      <td>f48eb5c2fde13ca63664f0bb05f55346</td>\n",
       "      <td>sport leisure</td>\n",
       "    </tr>\n",
       "    <tr>\n",
       "      <th>66</th>\n",
       "      <td>66e4624ae69e7dc89bd50222b59f581f</td>\n",
       "      <td>2018-03-09 14:50:15</td>\n",
       "      <td>684fa6da5134b9e4dab731e00011712d</td>\n",
       "      <td>SE</td>\n",
       "      <td>credit_card</td>\n",
       "      <td>9</td>\n",
       "      <td>91.68</td>\n",
       "      <td>22.99</td>\n",
       "      <td>b37b72d5a56f887725c2862184b8cab8</td>\n",
       "      <td>telephony</td>\n",
       "    </tr>\n",
       "    <tr>\n",
       "      <th>76</th>\n",
       "      <td>f271576bed568e896f99eb710cd3a6f8</td>\n",
       "      <td>2018-01-07 21:44:54</td>\n",
       "      <td>5dda11942d4f77bee3a46d71e442aec4</td>\n",
       "      <td>BA</td>\n",
       "      <td>credit_card</td>\n",
       "      <td>4</td>\n",
       "      <td>824.76</td>\n",
       "      <td>329.90</td>\n",
       "      <td>d457916b4fdc60154ed93b5dd3e6fd69</td>\n",
       "      <td>Construction Tools Construction</td>\n",
       "    </tr>\n",
       "    <tr>\n",
       "      <th>79</th>\n",
       "      <td>68e48e68da1f50f7c5838ea75e3a20dd</td>\n",
       "      <td>2018-06-18 16:02:23</td>\n",
       "      <td>4afc1dcca5fe8926fc97d60a4497f8ab</td>\n",
       "      <td>SP</td>\n",
       "      <td>credit_card</td>\n",
       "      <td>3</td>\n",
       "      <td>392.60</td>\n",
       "      <td>84.90</td>\n",
       "      <td>a659cb33082b851fb87a33af8f0fff29</td>\n",
       "      <td>automotive</td>\n",
       "    </tr>\n",
       "    <tr>\n",
       "      <th>...</th>\n",
       "      <td>...</td>\n",
       "      <td>...</td>\n",
       "      <td>...</td>\n",
       "      <td>...</td>\n",
       "      <td>...</td>\n",
       "      <td>...</td>\n",
       "      <td>...</td>\n",
       "      <td>...</td>\n",
       "      <td>...</td>\n",
       "      <td>...</td>\n",
       "    </tr>\n",
       "    <tr>\n",
       "      <th>117521</th>\n",
       "      <td>dbd4cbb492a12b99c5224014930acc18</td>\n",
       "      <td>2017-03-26 14:12:46</td>\n",
       "      <td>a14f464b2a19d761f7f3f0885d5ea955</td>\n",
       "      <td>SP</td>\n",
       "      <td>debit_card</td>\n",
       "      <td>1</td>\n",
       "      <td>140.90</td>\n",
       "      <td>37.40</td>\n",
       "      <td>d34efb58e1930773fcde9b951892b1b1</td>\n",
       "      <td>housewares</td>\n",
       "    </tr>\n",
       "    <tr>\n",
       "      <th>117543</th>\n",
       "      <td>83db27f85506380229913b0dfdf5cd18</td>\n",
       "      <td>2018-04-18 12:35:58</td>\n",
       "      <td>472acc24324ad4cee482fe4ef5910dc1</td>\n",
       "      <td>RJ</td>\n",
       "      <td>UPI</td>\n",
       "      <td>1</td>\n",
       "      <td>398.18</td>\n",
       "      <td>149.94</td>\n",
       "      <td>86f2416d4670e4ea3ca5494d043d9f24</td>\n",
       "      <td>Furniture office</td>\n",
       "    </tr>\n",
       "    <tr>\n",
       "      <th>117551</th>\n",
       "      <td>b3112ca67f3afd4e20cf2ee91fc4f804</td>\n",
       "      <td>2018-08-02 22:46:54</td>\n",
       "      <td>6f83c71b6c044fb156d697d4130fe9b5</td>\n",
       "      <td>SP</td>\n",
       "      <td>credit_card</td>\n",
       "      <td>9</td>\n",
       "      <td>239.50</td>\n",
       "      <td>95.00</td>\n",
       "      <td>4f18ca9862f511ecba98258b2194d061</td>\n",
       "      <td>Furniture</td>\n",
       "    </tr>\n",
       "    <tr>\n",
       "      <th>117570</th>\n",
       "      <td>e8fd20068b9f7e6ec07068bb7537f781</td>\n",
       "      <td>2017-08-10 21:21:07</td>\n",
       "      <td>609b9fb8cad4fe0c7b376f77c8ab76ad</td>\n",
       "      <td>SP</td>\n",
       "      <td>credit_card</td>\n",
       "      <td>10</td>\n",
       "      <td>748.24</td>\n",
       "      <td>356.00</td>\n",
       "      <td>0df37da38a30a713453b03053d60d3f7</td>\n",
       "      <td>sport leisure</td>\n",
       "    </tr>\n",
       "    <tr>\n",
       "      <th>117599</th>\n",
       "      <td>11c177c8e97725db2631073c19f07b62</td>\n",
       "      <td>2018-01-08 21:28:27</td>\n",
       "      <td>b331b74b18dc79bcdf6532d51e1637c1</td>\n",
       "      <td>RJ</td>\n",
       "      <td>credit_card</td>\n",
       "      <td>4</td>\n",
       "      <td>441.16</td>\n",
       "      <td>179.99</td>\n",
       "      <td>d1c427060a0f73f6b889a5c7c61f2ac4</td>\n",
       "      <td>computer accessories</td>\n",
       "    </tr>\n",
       "  </tbody>\n",
       "</table>\n",
       "<p>11213 rows × 10 columns</p>\n",
       "</div>"
      ],
      "text/plain": [
       "                                order_id order_purchase_timestamp  \\\n",
       "14      e6ce16cb79ec1d90b1da9085a6118aeb      2017-05-16 19:41:10   \n",
       "60      9faeb9b2746b9d7526aef5acb08e2aa0      2018-07-26 14:39:59   \n",
       "66      66e4624ae69e7dc89bd50222b59f581f      2018-03-09 14:50:15   \n",
       "76      f271576bed568e896f99eb710cd3a6f8      2018-01-07 21:44:54   \n",
       "79      68e48e68da1f50f7c5838ea75e3a20dd      2018-06-18 16:02:23   \n",
       "...                                  ...                      ...   \n",
       "117521  dbd4cbb492a12b99c5224014930acc18      2017-03-26 14:12:46   \n",
       "117543  83db27f85506380229913b0dfdf5cd18      2018-04-18 12:35:58   \n",
       "117551  b3112ca67f3afd4e20cf2ee91fc4f804      2018-08-02 22:46:54   \n",
       "117570  e8fd20068b9f7e6ec07068bb7537f781      2017-08-10 21:21:07   \n",
       "117599  11c177c8e97725db2631073c19f07b62      2018-01-08 21:28:27   \n",
       "\n",
       "                             customer_id customer_state payment_type  \\\n",
       "14      494dded5b201313c64ed7f100595b95c             RJ  credit_card   \n",
       "60      79183cd650e2bb0d475b0067d45946ac             RS  credit_card   \n",
       "66      684fa6da5134b9e4dab731e00011712d             SE  credit_card   \n",
       "76      5dda11942d4f77bee3a46d71e442aec4             BA  credit_card   \n",
       "79      4afc1dcca5fe8926fc97d60a4497f8ab             SP  credit_card   \n",
       "...                                  ...            ...          ...   \n",
       "117521  a14f464b2a19d761f7f3f0885d5ea955             SP   debit_card   \n",
       "117543  472acc24324ad4cee482fe4ef5910dc1             RJ          UPI   \n",
       "117551  6f83c71b6c044fb156d697d4130fe9b5             SP  credit_card   \n",
       "117570  609b9fb8cad4fe0c7b376f77c8ab76ad             SP  credit_card   \n",
       "117599  b331b74b18dc79bcdf6532d51e1637c1             RJ  credit_card   \n",
       "\n",
       "        payment_installments  payment_value   price  \\\n",
       "14                         1         259.06   99.00   \n",
       "60                         2         151.04   60.00   \n",
       "66                         9          91.68   22.99   \n",
       "76                         4         824.76  329.90   \n",
       "79                         3         392.60   84.90   \n",
       "...                      ...            ...     ...   \n",
       "117521                     1         140.90   37.40   \n",
       "117543                     1         398.18  149.94   \n",
       "117551                     9         239.50   95.00   \n",
       "117570                    10         748.24  356.00   \n",
       "117599                     4         441.16  179.99   \n",
       "\n",
       "                              product_id                 product category  \n",
       "14      08574b074924071f4e201e151b152b4e                     Garden tools  \n",
       "60      f48eb5c2fde13ca63664f0bb05f55346                    sport leisure  \n",
       "66      b37b72d5a56f887725c2862184b8cab8                        telephony  \n",
       "76      d457916b4fdc60154ed93b5dd3e6fd69  Construction Tools Construction  \n",
       "79      a659cb33082b851fb87a33af8f0fff29                       automotive  \n",
       "...                                  ...                              ...  \n",
       "117521  d34efb58e1930773fcde9b951892b1b1                       housewares  \n",
       "117543  86f2416d4670e4ea3ca5494d043d9f24                 Furniture office  \n",
       "117551  4f18ca9862f511ecba98258b2194d061                        Furniture  \n",
       "117570  0df37da38a30a713453b03053d60d3f7                    sport leisure  \n",
       "117599  d1c427060a0f73f6b889a5c7c61f2ac4             computer accessories  \n",
       "\n",
       "[11213 rows x 10 columns]"
      ]
     },
     "execution_count": 32,
     "metadata": {},
     "output_type": "execute_result"
    }
   ],
   "source": [
    "target_sales[target_sales.duplicated()]"
   ]
  },
  {
   "cell_type": "code",
   "execution_count": 33,
   "id": "be5c17a5-2c55-476e-b169-77e55d79adf8",
   "metadata": {},
   "outputs": [],
   "source": [
    "target_sales = target_sales.drop_duplicates()"
   ]
  },
  {
   "cell_type": "code",
   "execution_count": 34,
   "id": "f651ce16-f179-4456-afc1-6f51921c286c",
   "metadata": {},
   "outputs": [
    {
     "data": {
      "text/plain": [
       "np.int64(0)"
      ]
     },
     "execution_count": 34,
     "metadata": {},
     "output_type": "execute_result"
    }
   ],
   "source": [
    "target_sales.duplicated().sum()"
   ]
  },
  {
   "cell_type": "markdown",
   "id": "2e038575-72a2-45dd-8cf8-b81457ca25f1",
   "metadata": {},
   "source": [
    "The duplicates were successfully dropped."
   ]
  },
  {
   "cell_type": "markdown",
   "id": "553fc012-9b6e-40d4-9656-2c123247d6be",
   "metadata": {},
   "source": [
    "### Checking Data Types\n",
    "Examining the data types to ensure they are appropriate to prevent errors with calculations and data processing in the future."
   ]
  },
  {
   "cell_type": "code",
   "execution_count": 35,
   "id": "28c33ca2-b635-4b85-b25c-97bfa578f5f3",
   "metadata": {},
   "outputs": [
    {
     "data": {
      "text/plain": [
       "order_id                     object\n",
       "order_purchase_timestamp     object\n",
       "customer_id                  object\n",
       "customer_state               object\n",
       "payment_type                 object\n",
       "payment_installments          int64\n",
       "payment_value               float64\n",
       "price                       float64\n",
       "product_id                   object\n",
       "product category             object\n",
       "dtype: object"
      ]
     },
     "execution_count": 35,
     "metadata": {},
     "output_type": "execute_result"
    }
   ],
   "source": [
    "target_sales.dtypes"
   ]
  },
  {
   "cell_type": "markdown",
   "id": "13e90cf4-6635-4089-8598-930d0f94f03e",
   "metadata": {},
   "source": [
    "The only data type that might benefit from change is the 'order_purchase_timestamp'. I will change this column to type 'datetime'."
   ]
  },
  {
   "cell_type": "code",
   "execution_count": 36,
   "id": "6a4b65b1-571d-44f9-b4d3-7805dc063595",
   "metadata": {},
   "outputs": [],
   "source": [
    "target_sales['order_purchase_timestamp'] = pd.to_datetime(target_sales['order_purchase_timestamp'])"
   ]
  },
  {
   "cell_type": "markdown",
   "id": "14f9f781-4778-4b2a-be8b-b21ceda6b212",
   "metadata": {},
   "source": [
    "### Standardizing Decimal Points and Capitalization"
   ]
  },
  {
   "cell_type": "code",
   "execution_count": null,
   "id": "d26c5fe0-41d7-4fad-a7ae-47d97192bb0e",
   "metadata": {},
   "outputs": [],
   "source": []
  },
  {
   "cell_type": "code",
   "execution_count": 37,
   "id": "c955a6e8-3182-4042-9728-b5477f437b69",
   "metadata": {},
   "outputs": [
    {
     "data": {
      "text/html": [
       "<div>\n",
       "<style scoped>\n",
       "    .dataframe tbody tr th:only-of-type {\n",
       "        vertical-align: middle;\n",
       "    }\n",
       "\n",
       "    .dataframe tbody tr th {\n",
       "        vertical-align: top;\n",
       "    }\n",
       "\n",
       "    .dataframe thead th {\n",
       "        text-align: right;\n",
       "    }\n",
       "</style>\n",
       "<table border=\"1\" class=\"dataframe\">\n",
       "  <thead>\n",
       "    <tr style=\"text-align: right;\">\n",
       "      <th></th>\n",
       "      <th>order_id</th>\n",
       "      <th>order_purchase_timestamp</th>\n",
       "      <th>customer_id</th>\n",
       "      <th>customer_state</th>\n",
       "      <th>payment_type</th>\n",
       "      <th>payment_installments</th>\n",
       "      <th>payment_value</th>\n",
       "      <th>price</th>\n",
       "      <th>product_id</th>\n",
       "      <th>product category</th>\n",
       "    </tr>\n",
       "  </thead>\n",
       "  <tbody>\n",
       "    <tr>\n",
       "      <th>0</th>\n",
       "      <td>e481f51cbdc54678b7cc49136f2d6af7</td>\n",
       "      <td>2017-10-02 10:56:33</td>\n",
       "      <td>9ef432eb6251297304e76186b10a928d</td>\n",
       "      <td>SP</td>\n",
       "      <td>credit_card</td>\n",
       "      <td>1</td>\n",
       "      <td>18.12</td>\n",
       "      <td>29.99</td>\n",
       "      <td>87285b34884572647811a353c7ac498a</td>\n",
       "      <td>housewares</td>\n",
       "    </tr>\n",
       "    <tr>\n",
       "      <th>1</th>\n",
       "      <td>e481f51cbdc54678b7cc49136f2d6af7</td>\n",
       "      <td>2017-10-02 10:56:33</td>\n",
       "      <td>9ef432eb6251297304e76186b10a928d</td>\n",
       "      <td>SP</td>\n",
       "      <td>voucher</td>\n",
       "      <td>1</td>\n",
       "      <td>2.00</td>\n",
       "      <td>29.99</td>\n",
       "      <td>87285b34884572647811a353c7ac498a</td>\n",
       "      <td>housewares</td>\n",
       "    </tr>\n",
       "    <tr>\n",
       "      <th>2</th>\n",
       "      <td>e481f51cbdc54678b7cc49136f2d6af7</td>\n",
       "      <td>2017-10-02 10:56:33</td>\n",
       "      <td>9ef432eb6251297304e76186b10a928d</td>\n",
       "      <td>SP</td>\n",
       "      <td>voucher</td>\n",
       "      <td>1</td>\n",
       "      <td>18.59</td>\n",
       "      <td>29.99</td>\n",
       "      <td>87285b34884572647811a353c7ac498a</td>\n",
       "      <td>housewares</td>\n",
       "    </tr>\n",
       "    <tr>\n",
       "      <th>3</th>\n",
       "      <td>53cdb2fc8bc7dce0b6741e2150273451</td>\n",
       "      <td>2018-07-24 20:41:37</td>\n",
       "      <td>b0830fb4747a6c6d20dea0b8c802d7ef</td>\n",
       "      <td>BA</td>\n",
       "      <td>UPI</td>\n",
       "      <td>1</td>\n",
       "      <td>141.46</td>\n",
       "      <td>118.70</td>\n",
       "      <td>595fac2a385ac33a80bd5114aec74eb8</td>\n",
       "      <td>perfumery</td>\n",
       "    </tr>\n",
       "    <tr>\n",
       "      <th>4</th>\n",
       "      <td>47770eb9100c2d0c44946d9cf07ec65d</td>\n",
       "      <td>2018-08-08 08:38:49</td>\n",
       "      <td>41ce2a54c0b03bf3443c3d931a367089</td>\n",
       "      <td>GO</td>\n",
       "      <td>credit_card</td>\n",
       "      <td>3</td>\n",
       "      <td>179.12</td>\n",
       "      <td>159.90</td>\n",
       "      <td>aa4383b373c6aca5d8797843e5594415</td>\n",
       "      <td>automotive</td>\n",
       "    </tr>\n",
       "  </tbody>\n",
       "</table>\n",
       "</div>"
      ],
      "text/plain": [
       "                           order_id order_purchase_timestamp  \\\n",
       "0  e481f51cbdc54678b7cc49136f2d6af7      2017-10-02 10:56:33   \n",
       "1  e481f51cbdc54678b7cc49136f2d6af7      2017-10-02 10:56:33   \n",
       "2  e481f51cbdc54678b7cc49136f2d6af7      2017-10-02 10:56:33   \n",
       "3  53cdb2fc8bc7dce0b6741e2150273451      2018-07-24 20:41:37   \n",
       "4  47770eb9100c2d0c44946d9cf07ec65d      2018-08-08 08:38:49   \n",
       "\n",
       "                        customer_id customer_state payment_type  \\\n",
       "0  9ef432eb6251297304e76186b10a928d             SP  credit_card   \n",
       "1  9ef432eb6251297304e76186b10a928d             SP      voucher   \n",
       "2  9ef432eb6251297304e76186b10a928d             SP      voucher   \n",
       "3  b0830fb4747a6c6d20dea0b8c802d7ef             BA          UPI   \n",
       "4  41ce2a54c0b03bf3443c3d931a367089             GO  credit_card   \n",
       "\n",
       "   payment_installments  payment_value   price  \\\n",
       "0                     1          18.12   29.99   \n",
       "1                     1           2.00   29.99   \n",
       "2                     1          18.59   29.99   \n",
       "3                     1         141.46  118.70   \n",
       "4                     3         179.12  159.90   \n",
       "\n",
       "                         product_id product category  \n",
       "0  87285b34884572647811a353c7ac498a       housewares  \n",
       "1  87285b34884572647811a353c7ac498a       housewares  \n",
       "2  87285b34884572647811a353c7ac498a       housewares  \n",
       "3  595fac2a385ac33a80bd5114aec74eb8        perfumery  \n",
       "4  aa4383b373c6aca5d8797843e5594415       automotive  "
      ]
     },
     "execution_count": 37,
     "metadata": {},
     "output_type": "execute_result"
    }
   ],
   "source": [
    "target_sales.head()"
   ]
  },
  {
   "cell_type": "markdown",
   "id": "0de22a5c-9fb9-4531-99d9-dc9e5426178f",
   "metadata": {},
   "source": [
    "From viewing the first few rows, ensuring that all values in the 'payment_value' and 'price' columns have 2 decimal points might be beneficial.\n",
    "\n",
    "I will also examine the unique values in the following columns to ensure there are no typos, capitalization errors, or unnecessary white spaces: 'customer_state', 'payment_type', 'product category'."
   ]
  },
  {
   "cell_type": "markdown",
   "id": "ab9598cd-336e-4e7c-8c44-9e7e59a61b45",
   "metadata": {},
   "source": [
    "Rounding the 'payment_value' and 'price' column to 2 decimal points."
   ]
  },
  {
   "cell_type": "code",
   "execution_count": 38,
   "id": "3c953c2d-5084-442f-9cc8-54490d3b8931",
   "metadata": {},
   "outputs": [],
   "source": [
    "target_sales['payment_value'] = target_sales['payment_value'].round(2)\n",
    "target_sales['price'] = target_sales['price'].round(2)"
   ]
  },
  {
   "cell_type": "code",
   "execution_count": null,
   "id": "a9b6066d-dde3-4d7c-b6dd-25dc970ecf71",
   "metadata": {},
   "outputs": [],
   "source": []
  },
  {
   "cell_type": "code",
   "execution_count": null,
   "id": "56d79de8-5440-405f-b1e9-299fb137c677",
   "metadata": {},
   "outputs": [],
   "source": []
  },
  {
   "cell_type": "markdown",
   "id": "faa9f8f1-7054-4fd4-90e9-f5f9db8f3ba8",
   "metadata": {},
   "source": [
    "Checking the unique values in 'customer_state'."
   ]
  },
  {
   "cell_type": "code",
   "execution_count": 39,
   "id": "f17bc9a0-4e15-4670-85a6-34e884d0dbe5",
   "metadata": {},
   "outputs": [
    {
     "data": {
      "text/plain": [
       "array(['SP', 'BA', 'GO', 'RN', 'PR', 'RS', 'RJ', 'MG', 'SC', 'RR', 'PE',\n",
       "       'TO', 'CE', 'DF', 'SE', 'MT', 'PB', 'PA', 'RO', 'ES', 'AP', 'MS',\n",
       "       'MA', 'PI', 'AL', 'AC', 'AM'], dtype=object)"
      ]
     },
     "execution_count": 39,
     "metadata": {},
     "output_type": "execute_result"
    }
   ],
   "source": [
    "target_sales['customer_state'].unique()"
   ]
  },
  {
   "cell_type": "markdown",
   "id": "b5a10bda-3f8d-438d-99c8-528a427c8d07",
   "metadata": {},
   "source": [
    "No typos, capitalization errors, or white spaces are detected."
   ]
  },
  {
   "cell_type": "markdown",
   "id": "917b751a-90aa-48e9-adb2-f0cd537a3b3d",
   "metadata": {},
   "source": [
    "Checking the unique values in 'payment_type'."
   ]
  },
  {
   "cell_type": "code",
   "execution_count": 40,
   "id": "1891840b-6ea6-4e74-b7c0-34150533b9db",
   "metadata": {},
   "outputs": [
    {
     "data": {
      "text/plain": [
       "array(['credit_card', 'voucher', 'UPI', 'debit_card'], dtype=object)"
      ]
     },
     "execution_count": 40,
     "metadata": {},
     "output_type": "execute_result"
    }
   ],
   "source": [
    "target_sales['payment_type'].unique()"
   ]
  },
  {
   "cell_type": "markdown",
   "id": "a2c53814-d7bf-4990-b827-e2d7a7b2ae42",
   "metadata": {},
   "source": [
    "No typos, capitalization erorrs, or white spaces are detected."
   ]
  },
  {
   "cell_type": "markdown",
   "id": "91b1fd93-56ce-48e8-a5e5-f360b888a5f8",
   "metadata": {},
   "source": [
    "Checking the unique values in 'product category'."
   ]
  },
  {
   "cell_type": "code",
   "execution_count": 43,
   "id": "023c640f-d44f-4593-91dc-de5ea546c02c",
   "metadata": {},
   "outputs": [
    {
     "data": {
      "text/plain": [
       "['Agro Industria e Comercio',\n",
       " 'Art',\n",
       " 'Arts and Crafts',\n",
       " 'Bags Accessories',\n",
       " 'Blu Ray DVDs',\n",
       " 'CITTE AND UPHACK FURNITURE',\n",
       " 'CONSTRUCTION SECURITY TOOLS',\n",
       " 'Casa Construcao',\n",
       " 'Christmas articles',\n",
       " 'Construction Tools Construction',\n",
       " 'Construction Tools Garden',\n",
       " 'Construction Tools Illumination',\n",
       " 'Construction Tools Tools',\n",
       " 'Cool Stuff',\n",
       " 'Drink foods',\n",
       " 'ELECTRICES 2',\n",
       " 'Fashion Bags and Accessories',\n",
       " 'Fashion Calcados',\n",
       " \"Fashion Children's Clothing\",\n",
       " \"Fashion Men's Clothing\",\n",
       " 'Fashion Sport',\n",
       " 'Fashion Underwear and Beach Fashion',\n",
       " \"Fashion Women's Clothing\",\n",
       " 'Furniture',\n",
       " 'Furniture Decoration',\n",
       " 'Furniture Kitchen Service Area Dinner and Garden',\n",
       " 'Furniture office',\n",
       " 'Games consoles',\n",
       " 'Garden tools',\n",
       " 'General Interest Books',\n",
       " 'HEALTH BEAUTY',\n",
       " 'HOUSE PASTALS OVEN AND CAFE',\n",
       " 'House Comfort 2',\n",
       " 'House comfort',\n",
       " 'Hygiene diapers',\n",
       " 'IMAGE IMPORT TABLETS',\n",
       " 'Imported books',\n",
       " 'Industry Commerce and Business',\n",
       " 'Kitchen portable and food coach',\n",
       " 'La Cuisine',\n",
       " 'Market Place',\n",
       " 'PC Gamer',\n",
       " 'PCs',\n",
       " 'Room Furniture',\n",
       " 'SIGNALIZATION AND SAFETY',\n",
       " 'Unknown',\n",
       " 'Watches present',\n",
       " 'audio',\n",
       " 'automotive',\n",
       " 'babies',\n",
       " 'bed table bath',\n",
       " 'cds music dvds',\n",
       " 'cine photo',\n",
       " 'climatization',\n",
       " 'computer accessories',\n",
       " 'drinks',\n",
       " 'electronics',\n",
       " 'electrostile',\n",
       " 'fixed telephony',\n",
       " 'flowers',\n",
       " 'foods',\n",
       " 'home appliances',\n",
       " 'housewares',\n",
       " 'insurance and services',\n",
       " 'musical instruments',\n",
       " 'party articles',\n",
       " 'perfumery',\n",
       " 'pet Shop',\n",
       " 'song',\n",
       " 'sport leisure',\n",
       " 'stationary store',\n",
       " 'technical books',\n",
       " 'telephony',\n",
       " 'toys']"
      ]
     },
     "execution_count": 43,
     "metadata": {},
     "output_type": "execute_result"
    }
   ],
   "source": [
    "sorted(target_sales['product category'].unique())"
   ]
  },
  {
   "cell_type": "markdown",
   "id": "641bd9ea-83ea-42d1-b58d-270155259fb7",
   "metadata": {},
   "source": [
    "There are many issues with capitalization. I will change all values to title case."
   ]
  },
  {
   "cell_type": "code",
   "execution_count": 44,
   "id": "a903a8c8-b9fa-42b0-a9b7-4b709681fa5e",
   "metadata": {},
   "outputs": [
    {
     "data": {
      "text/plain": [
       "['Agro Industria E Comercio',\n",
       " 'Art',\n",
       " 'Arts And Crafts',\n",
       " 'Audio',\n",
       " 'Automotive',\n",
       " 'Babies',\n",
       " 'Bags Accessories',\n",
       " 'Bed Table Bath',\n",
       " 'Blu Ray Dvds',\n",
       " 'Casa Construcao',\n",
       " 'Cds Music Dvds',\n",
       " 'Christmas Articles',\n",
       " 'Cine Photo',\n",
       " 'Citte And Uphack Furniture',\n",
       " 'Climatization',\n",
       " 'Computer Accessories',\n",
       " 'Construction Security Tools',\n",
       " 'Construction Tools Construction',\n",
       " 'Construction Tools Garden',\n",
       " 'Construction Tools Illumination',\n",
       " 'Construction Tools Tools',\n",
       " 'Cool Stuff',\n",
       " 'Drink Foods',\n",
       " 'Drinks',\n",
       " 'Electrices 2',\n",
       " 'Electronics',\n",
       " 'Electrostile',\n",
       " 'Fashion Bags And Accessories',\n",
       " 'Fashion Calcados',\n",
       " \"Fashion Children'S Clothing\",\n",
       " \"Fashion Men'S Clothing\",\n",
       " 'Fashion Sport',\n",
       " 'Fashion Underwear And Beach Fashion',\n",
       " \"Fashion Women'S Clothing\",\n",
       " 'Fixed Telephony',\n",
       " 'Flowers',\n",
       " 'Foods',\n",
       " 'Furniture',\n",
       " 'Furniture Decoration',\n",
       " 'Furniture Kitchen Service Area Dinner And Garden',\n",
       " 'Furniture Office',\n",
       " 'Games Consoles',\n",
       " 'Garden Tools',\n",
       " 'General Interest Books',\n",
       " 'Health Beauty',\n",
       " 'Home Appliances',\n",
       " 'House Comfort',\n",
       " 'House Comfort 2',\n",
       " 'House Pastals Oven And Cafe',\n",
       " 'Housewares',\n",
       " 'Hygiene Diapers',\n",
       " 'Image Import Tablets',\n",
       " 'Imported Books',\n",
       " 'Industry Commerce And Business',\n",
       " 'Insurance And Services',\n",
       " 'Kitchen Portable And Food Coach',\n",
       " 'La Cuisine',\n",
       " 'Market Place',\n",
       " 'Musical Instruments',\n",
       " 'Party Articles',\n",
       " 'Pc Gamer',\n",
       " 'Pcs',\n",
       " 'Perfumery',\n",
       " 'Pet Shop',\n",
       " 'Room Furniture',\n",
       " 'Signalization And Safety',\n",
       " 'Song',\n",
       " 'Sport Leisure',\n",
       " 'Stationary Store',\n",
       " 'Technical Books',\n",
       " 'Telephony',\n",
       " 'Toys',\n",
       " 'Unknown',\n",
       " 'Watches Present']"
      ]
     },
     "execution_count": 44,
     "metadata": {},
     "output_type": "execute_result"
    }
   ],
   "source": [
    "target_sales['product category'] = target_sales['product category'].str.title()\n",
    "sorted(target_sales['product category'].unique())"
   ]
  },
  {
   "cell_type": "markdown",
   "id": "21afdc94-95dd-4879-b751-299cb0e32072",
   "metadata": {},
   "source": [
    "Most of the capitalization errors were resolved, but some values still have incorrect capitalization such as 'Pcs'. I will manually fix the capitalization."
   ]
  },
  {
   "cell_type": "code",
   "execution_count": 45,
   "id": "481762b8-e095-4aef-ba82-beb7a766502f",
   "metadata": {},
   "outputs": [],
   "source": [
    "replace_dict = {\n",
    "    'Arts And Crafts': 'Arts and Crafts',\n",
    "    'Cds Music Dvds': 'CDs Music DVDs',\n",
    "    'Citte And Uphack Furniture': 'Citte and Uphack Furniture',\n",
    "    'Fashion Bags And Accessories': 'Fashion Bags and Accessories',\n",
    "    \"Fashion Children'S Clothing\": \"Fashion Children's Clothing\",\n",
    "    \"Fashion Men'S Clothing\": \"Fashion Men's Clothing\",\n",
    "    'Fashion Underwear And Beach Fashion': 'Fashion Underwear and Beach Fashion',\n",
    "    \"Fashion Women'S Clothing\": \"Fashion Women's Clothing\",\n",
    "    'Furniture Kitchen Service Area Dinner And Garden': 'Furniture Kitchen Service Area Dinner and Garden',\n",
    "    'House Pastals Oven And Cafe': 'House Pastals Oven and Cafe',\n",
    "    'Industry Commerce And Business': 'Industry Commerce and Business',\n",
    "    'Insurance And Services': 'Insurance and Services',\n",
    "    'Kitchen Portable And Food Coach': 'Kitchen Portable and Food Coach',\n",
    "    'Pc Gamer': 'PC Gamer',\n",
    "    'Pcs': 'PCs',\n",
    "    'Signalization And Safety': 'Signalization and Safety'\n",
    "}\n",
    "target_sales['product category'] = target_sales['product category'].replace(replace_dict)"
   ]
  },
  {
   "cell_type": "code",
   "execution_count": 46,
   "id": "9dd3637c-a92d-41f9-8058-06326118ce74",
   "metadata": {},
   "outputs": [
    {
     "data": {
      "text/plain": [
       "['Agro Industria E Comercio',\n",
       " 'Art',\n",
       " 'Arts and Crafts',\n",
       " 'Audio',\n",
       " 'Automotive',\n",
       " 'Babies',\n",
       " 'Bags Accessories',\n",
       " 'Bed Table Bath',\n",
       " 'Blu Ray Dvds',\n",
       " 'CDs Music DVDs',\n",
       " 'Casa Construcao',\n",
       " 'Christmas Articles',\n",
       " 'Cine Photo',\n",
       " 'Citte and Uphack Furniture',\n",
       " 'Climatization',\n",
       " 'Computer Accessories',\n",
       " 'Construction Security Tools',\n",
       " 'Construction Tools Construction',\n",
       " 'Construction Tools Garden',\n",
       " 'Construction Tools Illumination',\n",
       " 'Construction Tools Tools',\n",
       " 'Cool Stuff',\n",
       " 'Drink Foods',\n",
       " 'Drinks',\n",
       " 'Electrices 2',\n",
       " 'Electronics',\n",
       " 'Electrostile',\n",
       " 'Fashion Bags and Accessories',\n",
       " 'Fashion Calcados',\n",
       " \"Fashion Children's Clothing\",\n",
       " \"Fashion Men's Clothing\",\n",
       " 'Fashion Sport',\n",
       " 'Fashion Underwear and Beach Fashion',\n",
       " \"Fashion Women's Clothing\",\n",
       " 'Fixed Telephony',\n",
       " 'Flowers',\n",
       " 'Foods',\n",
       " 'Furniture',\n",
       " 'Furniture Decoration',\n",
       " 'Furniture Kitchen Service Area Dinner and Garden',\n",
       " 'Furniture Office',\n",
       " 'Games Consoles',\n",
       " 'Garden Tools',\n",
       " 'General Interest Books',\n",
       " 'Health Beauty',\n",
       " 'Home Appliances',\n",
       " 'House Comfort',\n",
       " 'House Comfort 2',\n",
       " 'House Pastals Oven and Cafe',\n",
       " 'Housewares',\n",
       " 'Hygiene Diapers',\n",
       " 'Image Import Tablets',\n",
       " 'Imported Books',\n",
       " 'Industry Commerce and Business',\n",
       " 'Insurance and Services',\n",
       " 'Kitchen Portable and Food Coach',\n",
       " 'La Cuisine',\n",
       " 'Market Place',\n",
       " 'Musical Instruments',\n",
       " 'PC Gamer',\n",
       " 'PCs',\n",
       " 'Party Articles',\n",
       " 'Perfumery',\n",
       " 'Pet Shop',\n",
       " 'Room Furniture',\n",
       " 'Signalization and Safety',\n",
       " 'Song',\n",
       " 'Sport Leisure',\n",
       " 'Stationary Store',\n",
       " 'Technical Books',\n",
       " 'Telephony',\n",
       " 'Toys',\n",
       " 'Unknown',\n",
       " 'Watches Present']"
      ]
     },
     "execution_count": 46,
     "metadata": {},
     "output_type": "execute_result"
    }
   ],
   "source": [
    "sorted(target_sales['product category'].unique())"
   ]
  },
  {
   "cell_type": "markdown",
   "id": "c7df54db-24b9-4b29-a00c-0cb8bd8c57a3",
   "metadata": {},
   "source": [
    "The capitalization errors have been successfully fixed. Although there are a few repetitive values such as 'House Comfort' and 'House Comfort 2' I will leave them in since they might be specific to Target's internal operations."
   ]
  },
  {
   "cell_type": "markdown",
   "id": "3e850ae6-fa4b-4cac-a6d7-98cd67b20656",
   "metadata": {},
   "source": [
    "### Examining Numerical Data\n",
    "Checking for outliers and examining the data distribution."
   ]
  },
  {
   "cell_type": "code",
   "execution_count": 47,
   "id": "e41aa4f5-8b28-46ac-96dd-dafae51af547",
   "metadata": {},
   "outputs": [
    {
     "data": {
      "text/html": [
       "<div>\n",
       "<style scoped>\n",
       "    .dataframe tbody tr th:only-of-type {\n",
       "        vertical-align: middle;\n",
       "    }\n",
       "\n",
       "    .dataframe tbody tr th {\n",
       "        vertical-align: top;\n",
       "    }\n",
       "\n",
       "    .dataframe thead th {\n",
       "        text-align: right;\n",
       "    }\n",
       "</style>\n",
       "<table border=\"1\" class=\"dataframe\">\n",
       "  <thead>\n",
       "    <tr style=\"text-align: right;\">\n",
       "      <th></th>\n",
       "      <th>order_purchase_timestamp</th>\n",
       "      <th>payment_installments</th>\n",
       "      <th>payment_value</th>\n",
       "      <th>price</th>\n",
       "    </tr>\n",
       "  </thead>\n",
       "  <tbody>\n",
       "    <tr>\n",
       "      <th>count</th>\n",
       "      <td>106385</td>\n",
       "      <td>106385.000000</td>\n",
       "      <td>106385.000000</td>\n",
       "      <td>106385.000000</td>\n",
       "    </tr>\n",
       "    <tr>\n",
       "      <th>mean</th>\n",
       "      <td>2017-12-30 16:10:12.365775360</td>\n",
       "      <td>2.906773</td>\n",
       "      <td>158.042268</td>\n",
       "      <td>124.509696</td>\n",
       "    </tr>\n",
       "    <tr>\n",
       "      <th>min</th>\n",
       "      <td>2016-09-04 21:15:19</td>\n",
       "      <td>1.000000</td>\n",
       "      <td>0.000000</td>\n",
       "      <td>0.850000</td>\n",
       "    </tr>\n",
       "    <tr>\n",
       "      <th>25%</th>\n",
       "      <td>2017-09-11 13:38:42</td>\n",
       "      <td>1.000000</td>\n",
       "      <td>58.270000</td>\n",
       "      <td>40.000000</td>\n",
       "    </tr>\n",
       "    <tr>\n",
       "      <th>50%</th>\n",
       "      <td>2018-01-18 09:12:58</td>\n",
       "      <td>2.000000</td>\n",
       "      <td>102.870000</td>\n",
       "      <td>78.000000</td>\n",
       "    </tr>\n",
       "    <tr>\n",
       "      <th>75%</th>\n",
       "      <td>2018-05-04 08:18:10</td>\n",
       "      <td>4.000000</td>\n",
       "      <td>176.770000</td>\n",
       "      <td>139.000000</td>\n",
       "    </tr>\n",
       "    <tr>\n",
       "      <th>max</th>\n",
       "      <td>2018-09-03 09:06:57</td>\n",
       "      <td>24.000000</td>\n",
       "      <td>13664.080000</td>\n",
       "      <td>6735.000000</td>\n",
       "    </tr>\n",
       "    <tr>\n",
       "      <th>std</th>\n",
       "      <td>NaN</td>\n",
       "      <td>2.727864</td>\n",
       "      <td>219.005908</td>\n",
       "      <td>189.793300</td>\n",
       "    </tr>\n",
       "  </tbody>\n",
       "</table>\n",
       "</div>"
      ],
      "text/plain": [
       "            order_purchase_timestamp  payment_installments  payment_value  \\\n",
       "count                         106385         106385.000000  106385.000000   \n",
       "mean   2017-12-30 16:10:12.365775360              2.906773     158.042268   \n",
       "min              2016-09-04 21:15:19              1.000000       0.000000   \n",
       "25%              2017-09-11 13:38:42              1.000000      58.270000   \n",
       "50%              2018-01-18 09:12:58              2.000000     102.870000   \n",
       "75%              2018-05-04 08:18:10              4.000000     176.770000   \n",
       "max              2018-09-03 09:06:57             24.000000   13664.080000   \n",
       "std                              NaN              2.727864     219.005908   \n",
       "\n",
       "               price  \n",
       "count  106385.000000  \n",
       "mean      124.509696  \n",
       "min         0.850000  \n",
       "25%        40.000000  \n",
       "50%        78.000000  \n",
       "75%       139.000000  \n",
       "max      6735.000000  \n",
       "std       189.793300  "
      ]
     },
     "execution_count": 47,
     "metadata": {},
     "output_type": "execute_result"
    }
   ],
   "source": [
    "target_sales.describe()"
   ]
  },
  {
   "cell_type": "markdown",
   "id": "5b2edf39-255b-4ef1-96c1-188d0ae77996",
   "metadata": {},
   "source": [
    "### Analysis\n",
    "- order_purchase_timestamp: No abnormal dates are detected.\n",
    "- payment_installments: No abnormal installment amounts are detected. The maximum of 24 installments is concerning, but possible in the real world.\n",
    "- payment_value: No abnormal values are detected. The minimum of 0 is possible through discounts in the real world. The maximum of 13,664.08 is possible in the real world. \n",
    "- price: No abnormal values are detected. A price of 0.85 is possible in the real world as well as a price of 6,735."
   ]
  },
  {
   "cell_type": "markdown",
   "id": "4c7406ed-475d-484c-a63b-67e3232c88c9",
   "metadata": {},
   "source": [
    "## Examining Distributions"
   ]
  },
  {
   "cell_type": "markdown",
   "id": "11a0d02d-d90e-4967-abfc-5197ecfe4359",
   "metadata": {},
   "source": [
    "### Analyzing Distributions: customer_state"
   ]
  },
  {
   "cell_type": "code",
   "execution_count": 48,
   "id": "0e8fa78e-201f-49b1-94c1-effd08f9e780",
   "metadata": {},
   "outputs": [
    {
     "data": {
      "image/png": "[encoded data removed]",
      "text/plain": [
       "<Figure size 640x480 with 1 Axes>"
      ]
     },
     "metadata": {},
     "output_type": "display_data"
    }
   ],
   "source": [
    "target_sales['customer_state'].value_counts().plot(kind='bar', color='#03A9F4')\n",
    "plt.title('Distribution of Orders by State')\n",
    "plt.xlabel('State')\n",
    "plt.ylabel('Number of Orders')\n",
    "plt.show()"
   ]
  },
  {
   "cell_type": "markdown",
   "id": "be3f71fa-1d2a-43a1-9f7e-9edf532d7f37",
   "metadata": {},
   "source": [
    "The 'customer_state' column is heavily skewed to the right. Most orders came from the state 'SP'."
   ]
  },
  {
   "cell_type": "markdown",
   "id": "69962a73-cffc-4ae4-b0a6-88d2b7bda038",
   "metadata": {},
   "source": [
    "### Analyzing Distributions: order_purchase_timestamp"
   ]
  },
  {
   "cell_type": "code",
   "execution_count": 49,
   "id": "b08ba623-5eae-4a35-bba5-62bc2799e5cb",
   "metadata": {},
   "outputs": [
    {
     "data": {
      "image/png": "[encoded data removed]",
      "text/plain": [
       "<Figure size 640x480 with 1 Axes>"
      ]
     },
     "metadata": {},
     "output_type": "display_data"
    }
   ],
   "source": [
    "target_sales['order_month'] = target_sales['order_purchase_timestamp'].dt.to_period('M')\n",
    "\n",
    "target_sales['order_month'].value_counts().sort_index().plot(kind='bar', color='#673AB7')\n",
    "plt.title('Number of Orders per Month')\n",
    "plt.xlabel('Month')\n",
    "plt.ylabel('Number of Orders')\n",
    "plt.show()"
   ]
  },
  {
   "cell_type": "markdown",
   "id": "bdeb372b-c6d7-4355-808f-9bbd6c4d1b4d",
   "metadata": {},
   "source": [
    "The 'order_purchase_timestamp' column is heavily skewed to the left. Most orders came from the timeperiod of 2017-11 to 2018-09."
   ]
  },
  {
   "cell_type": "markdown",
   "id": "444bdb53-bb99-410a-9dda-736b986dc0b4",
   "metadata": {},
   "source": [
    "### Analyzing Distributions: payment_type"
   ]
  },
  {
   "cell_type": "code",
   "execution_count": 50,
   "id": "2b4d4b3f-d0f6-4130-a955-105424ae6b88",
   "metadata": {},
   "outputs": [
    {
     "data": {
      "image/png": "[encoded data removed]",
      "text/plain": [
       "<Figure size 640x480 with 1 Axes>"
      ]
     },
     "metadata": {},
     "output_type": "display_data"
    }
   ],
   "source": [
    "target_sales['payment_type'].value_counts().plot(kind='bar', color='#F06292')\n",
    "plt.title('Distribution of Payment Types')\n",
    "plt.xlabel('Payment Type')\n",
    "plt.ylabel('Number of Orders')\n",
    "plt.show()"
   ]
  },
  {
   "cell_type": "markdown",
   "id": "bdae0644-2f31-44bb-80d1-bdaf4c596eb4",
   "metadata": {},
   "source": [
    "Most customers used credit cards and UPI to pay for their purchases."
   ]
  },
  {
   "cell_type": "markdown",
   "id": "caf50e94-837a-485a-81bb-243d1824c98e",
   "metadata": {},
   "source": [
    "### Analyzing Distributions: payment_installments"
   ]
  },
  {
   "cell_type": "code",
   "execution_count": 53,
   "id": "7078c7db-d948-4b00-a262-2b4ed9f61897",
   "metadata": {},
   "outputs": [
    {
     "data": {
      "image/png": "[encoded data removed]",
      "text/plain": [
       "<Figure size 640x480 with 1 Axes>"
      ]
     },
     "metadata": {},
     "output_type": "display_data"
    }
   ],
   "source": [
    "target_sales['payment_installments'].plot(kind='hist', bins=15, color='#03A9F4', edgecolor='black')\n",
    "plt.title('Distribution of Payment Installments')\n",
    "plt.xlabel('Number of Installments')\n",
    "plt.ylabel('Number of Orders')\n",
    "plt.show()"
   ]
  },
  {
   "cell_type": "markdown",
   "id": "6693422c-0d08-47e4-853b-767ad1a32ab3",
   "metadata": {},
   "source": [
    "Most customers paid for their orders with less than 5 installments."
   ]
  },
  {
   "cell_type": "markdown",
   "id": "73b8fe90-9685-41ce-894b-94f6f900ce62",
   "metadata": {},
   "source": [
    "### Analyzing Distributions: payment_value"
   ]
  },
  {
   "cell_type": "code",
   "execution_count": 57,
   "id": "0020c5f3-35bc-4a28-9ab1-cdabcd3ee684",
   "metadata": {},
   "outputs": [
    {
     "data": {
      "image/png": "[encoded data removed]",
      "text/plain": [
       "<Figure size 640x480 with 1 Axes>"
      ]
     },
     "metadata": {},
     "output_type": "display_data"
    }
   ],
   "source": [
    "target_sales['payment_value'].plot(kind='hist', bins=15, color='#673AB7', edgecolor='black')\n",
    "plt.title('Distirbution of Payment Values')\n",
    "plt.xlabel('Payment Value')\n",
    "plt.ylabel('Number of Orders')\n",
    "plt.show()"
   ]
  },
  {
   "cell_type": "markdown",
   "id": "5c0ca5bf-67f2-4552-bd8c-761efc1b8070",
   "metadata": {},
   "source": [
    "The 'payment_value' column is heavily skewed to the right. Most orders have a payment value of less than 1,000. There are a few extremely high payment values."
   ]
  },
  {
   "cell_type": "markdown",
   "id": "90639297-80b5-4be3-8d3f-e1f93d847920",
   "metadata": {},
   "source": [
    "### Analyzing Distributions: product_category_name"
   ]
  },
  {
   "cell_type": "code",
   "execution_count": 58,
   "id": "c2003f98-125a-46d2-85f0-0586c1a04c06",
   "metadata": {},
   "outputs": [
    {
     "data": {
      "image/png": "[encoded data removed]",
      "text/plain": [
       "<Figure size 640x480 with 1 Axes>"
      ]
     },
     "metadata": {},
     "output_type": "display_data"
    }
   ],
   "source": [
    "target_sales['product category'].value_counts().head(10).plot(kind='bar', color='#F06292')\n",
    "plt.title('Top 10 Product Categories by Orders')\n",
    "plt.xlabel('Product Category')\n",
    "plt.ylabel('Number of Orders')\n",
    "plt.show()"
   ]
  },
  {
   "cell_type": "markdown",
   "id": "c25ba0e8-9300-406e-b832-66de69784228",
   "metadata": {},
   "source": [
    "The barplot created shows the top 10 product categories based on number of orders. The top product category is 'Bed Table Bath'."
   ]
  },
  {
   "cell_type": "markdown",
   "id": "612b176d-4418-4abe-b316-cfe717fc1e10",
   "metadata": {},
   "source": [
    "### Analyzing Distributions: price"
   ]
  },
  {
   "cell_type": "code",
   "execution_count": 59,
   "id": "0076d6e8-c60c-41cf-bbe9-f05385e9492c",
   "metadata": {},
   "outputs": [
    {
     "data": {
      "image/png": "[encoded data removed]",
      "text/plain": [
       "<Figure size 640x480 with 1 Axes>"
      ]
     },
     "metadata": {},
     "output_type": "display_data"
    }
   ],
   "source": [
    "target_sales['price'].plot(kind='hist', bins=30, color='#03A9F4')\n",
    "plt.title('Distirbution of Product Prices')\n",
    "plt.xlabel('Price')\n",
    "plt.ylabel('Frequency')\n",
    "plt.show()"
   ]
  },
  {
   "cell_type": "markdown",
   "id": "ba910037-d13b-4f62-952b-27323d027502",
   "metadata": {},
   "source": [
    "The distribution of the 'price' column is skewed heavily to the right. Most products are priced under 1000. A few products have a very high price."
   ]
  },
  {
   "cell_type": "markdown",
   "id": "eb6be771-4d43-4401-ab46-faef3d43e563",
   "metadata": {},
   "source": [
    "### Exporting the Cleaned Dataset"
   ]
  },
  {
   "cell_type": "code",
   "execution_count": 60,
   "id": "f435877e-9a1e-4dc7-83f1-5a44a9adedd8",
   "metadata": {},
   "outputs": [],
   "source": [
    "target_sales.to_csv(\"target_sales_full_cleaned.csv\", index=False)"
   ]
  },
  {
   "cell_type": "markdown",
   "id": "8b1fb05e-e49b-4693-93cf-1b2b30eff197",
   "metadata": {},
   "source": [
    "## SQL Queries"
   ]
  },
  {
   "cell_type": "markdown",
   "id": "654c4489-eadb-4043-a7bf-352334ec7d32",
   "metadata": {},
   "source": [
    "In this section, SQL queries will be used to help answer our main question.\n",
    "\n",
    "Main Question: What are the top 3 states with the most orders, and what was their purchasing behavior?"
   ]
  },
  {
   "cell_type": "markdown",
   "id": "1b524a78-1e31-4acb-9ee6-9bceb956e41f",
   "metadata": {},
   "source": [
    "### SQL Queries: What are the top 3 states with the most orders?"
   ]
  },
  {
   "cell_type": "code",
   "execution_count": 63,
   "id": "41a14f73-d27c-4e04-8429-0194c31fa3b0",
   "metadata": {},
   "outputs": [
    {
     "name": "stdout",
     "output_type": "stream",
     "text": [
      "[('SP', 49566), ('RJ', 15327), ('MG', 13638)]\n"
     ]
    }
   ],
   "source": [
    "query = \"\"\"\n",
    "SELECT customer_state, COUNT(order_id) AS total_orders\n",
    "FROM orders_customers_payments_order_items_products_join\n",
    "GROUP BY customer_state\n",
    "ORDER BY total_orders DESC\n",
    "LIMIT 3\n",
    "\"\"\"\n",
    "\n",
    "cursor.execute(query)\n",
    "results = cursor.fetchall()\n",
    "print(results)"
   ]
  },
  {
   "cell_type": "markdown",
   "id": "5474ba5e-9fac-489e-8d7d-cf84843fee13",
   "metadata": {},
   "source": [
    "The top 3 states with the most orders is 'SP', 'RJ', and 'MG'."
   ]
  },
  {
   "cell_type": "markdown",
   "id": "b37c9ed4-fd1f-48b2-88af-c4df6b042ac5",
   "metadata": {},
   "source": [
    "### SQL Queries: order_purchase_timestamp"
   ]
  },
  {
   "cell_type": "markdown",
   "id": "dcd2365f-066a-4db0-9933-dca59ae7bcc7",
   "metadata": {},
   "source": [
    "This query is to find the orders per year for the top three states of 'SP', 'RJ', and 'MG'."
   ]
  },
  {
   "cell_type": "code",
   "execution_count": 69,
   "id": "fd20b2fa-4548-40c4-b3de-528e66e979d3",
   "metadata": {},
   "outputs": [
    {
     "name": "stdout",
     "output_type": "stream",
     "text": [
      "[('2016', 'MG', 49), ('2016', 'RJ', 64), ('2016', 'SP', 127), ('2017', 'MG', 6409), ('2017', 'RJ', 7410), ('2017', 'SP', 21239), ('2018', 'MG', 7180), ('2018', 'RJ', 7853), ('2018', 'SP', 28200)]\n"
     ]
    }
   ],
   "source": [
    "query = \"\"\"\n",
    "SELECT STRFTIME('%Y', order_purchase_timestamp) AS year, customer_state, COUNT(order_id) AS total_orders\n",
    "FROM orders_customers_payments_order_items_products_join\n",
    "WHERE customer_state IN ('SP', 'RJ', 'MG')\n",
    "GROUP BY year, customer_state\n",
    "ORDER BY year, customer_state\n",
    "\"\"\"\n",
    "cursor.execute(query)\n",
    "results = cursor.fetchall()\n",
    "print(results)"
   ]
  },
  {
   "cell_type": "code",
   "execution_count": 70,
   "id": "9b03ae56-efbd-4e1f-8c7a-7ef3660ac66f",
   "metadata": {},
   "outputs": [
    {
     "data": {
      "text/html": [
       "<div>\n",
       "<style scoped>\n",
       "    .dataframe tbody tr th:only-of-type {\n",
       "        vertical-align: middle;\n",
       "    }\n",
       "\n",
       "    .dataframe tbody tr th {\n",
       "        vertical-align: top;\n",
       "    }\n",
       "\n",
       "    .dataframe thead th {\n",
       "        text-align: right;\n",
       "    }\n",
       "</style>\n",
       "<table border=\"1\" class=\"dataframe\">\n",
       "  <thead>\n",
       "    <tr style=\"text-align: right;\">\n",
       "      <th></th>\n",
       "      <th>Year</th>\n",
       "      <th>State</th>\n",
       "      <th>Total Orders</th>\n",
       "    </tr>\n",
       "  </thead>\n",
       "  <tbody>\n",
       "    <tr>\n",
       "      <th>0</th>\n",
       "      <td>2016</td>\n",
       "      <td>MG</td>\n",
       "      <td>49</td>\n",
       "    </tr>\n",
       "    <tr>\n",
       "      <th>1</th>\n",
       "      <td>2016</td>\n",
       "      <td>RJ</td>\n",
       "      <td>64</td>\n",
       "    </tr>\n",
       "    <tr>\n",
       "      <th>2</th>\n",
       "      <td>2016</td>\n",
       "      <td>SP</td>\n",
       "      <td>127</td>\n",
       "    </tr>\n",
       "    <tr>\n",
       "      <th>3</th>\n",
       "      <td>2017</td>\n",
       "      <td>MG</td>\n",
       "      <td>6409</td>\n",
       "    </tr>\n",
       "    <tr>\n",
       "      <th>4</th>\n",
       "      <td>2017</td>\n",
       "      <td>RJ</td>\n",
       "      <td>7410</td>\n",
       "    </tr>\n",
       "    <tr>\n",
       "      <th>5</th>\n",
       "      <td>2017</td>\n",
       "      <td>SP</td>\n",
       "      <td>21239</td>\n",
       "    </tr>\n",
       "    <tr>\n",
       "      <th>6</th>\n",
       "      <td>2018</td>\n",
       "      <td>MG</td>\n",
       "      <td>7180</td>\n",
       "    </tr>\n",
       "    <tr>\n",
       "      <th>7</th>\n",
       "      <td>2018</td>\n",
       "      <td>RJ</td>\n",
       "      <td>7853</td>\n",
       "    </tr>\n",
       "    <tr>\n",
       "      <th>8</th>\n",
       "      <td>2018</td>\n",
       "      <td>SP</td>\n",
       "      <td>28200</td>\n",
       "    </tr>\n",
       "  </tbody>\n",
       "</table>\n",
       "</div>"
      ],
      "text/plain": [
       "   Year State  Total Orders\n",
       "0  2016    MG            49\n",
       "1  2016    RJ            64\n",
       "2  2016    SP           127\n",
       "3  2017    MG          6409\n",
       "4  2017    RJ          7410\n",
       "5  2017    SP         21239\n",
       "6  2018    MG          7180\n",
       "7  2018    RJ          7853\n",
       "8  2018    SP         28200"
      ]
     },
     "execution_count": 70,
     "metadata": {},
     "output_type": "execute_result"
    }
   ],
   "source": [
    "results_df = pd.DataFrame(results, columns=['Year', 'State', 'Total Orders'])\n",
    "results_df"
   ]
  },
  {
   "cell_type": "markdown",
   "id": "88b1ce6e-c005-4277-b220-b3a4a87e5106",
   "metadata": {},
   "source": [
    "This query is to find the total number of orders in the states 'SP', 'RJ', and 'MG' based on the day of the week."
   ]
  },
  {
   "cell_type": "code",
   "execution_count": 71,
   "id": "a9ee6425-3846-4c97-acaf-702eec54ed69",
   "metadata": {},
   "outputs": [
    {
     "name": "stdout",
     "output_type": "stream",
     "text": [
      "[('0', 'MG', 1577), ('0', 'RJ', 1830), ('0', 'SP', 5974), ('1', 'MG', 2156), ('1', 'RJ', 2418), ('1', 'SP', 8188), ('2', 'MG', 2237), ('2', 'RJ', 2494), ('2', 'SP', 8196), ('3', 'MG', 2121), ('3', 'RJ', 2392), ('3', 'SP', 7705), ('4', 'MG', 2103), ('4', 'RJ', 2208), ('4', 'SP', 7436), ('5', 'MG', 2000), ('5', 'RJ', 2222), ('5', 'SP', 6882), ('6', 'MG', 1444), ('6', 'RJ', 1763), ('6', 'SP', 5185)]\n"
     ]
    }
   ],
   "source": [
    "query = \"\"\"\n",
    "SELECT STRFTIME('%w', order_purchase_timestamp) AS day_of_week, customer_state, COUNT(order_id) AS total_orders\n",
    "FROM orders_customers_payments_order_items_products_join\n",
    "WHERE customer_state IN ('SP', 'RJ', 'MG')\n",
    "GROUP BY day_of_week, customer_state\n",
    "ORDER BY day_of_week, customer_state\n",
    "\"\"\"\n",
    "\n",
    "cursor.execute(query)\n",
    "results = cursor.fetchall()\n",
    "print(results)"
   ]
  },
  {
   "cell_type": "code",
   "execution_count": 72,
   "id": "50583def-edc3-4320-982f-50ddbc61222b",
   "metadata": {},
   "outputs": [
    {
     "data": {
      "text/html": [
       "<div>\n",
       "<style scoped>\n",
       "    .dataframe tbody tr th:only-of-type {\n",
       "        vertical-align: middle;\n",
       "    }\n",
       "\n",
       "    .dataframe tbody tr th {\n",
       "        vertical-align: top;\n",
       "    }\n",
       "\n",
       "    .dataframe thead th {\n",
       "        text-align: right;\n",
       "    }\n",
       "</style>\n",
       "<table border=\"1\" class=\"dataframe\">\n",
       "  <thead>\n",
       "    <tr style=\"text-align: right;\">\n",
       "      <th></th>\n",
       "      <th>Day of Week</th>\n",
       "      <th>State</th>\n",
       "      <th>Total Orders</th>\n",
       "    </tr>\n",
       "  </thead>\n",
       "  <tbody>\n",
       "    <tr>\n",
       "      <th>0</th>\n",
       "      <td>0</td>\n",
       "      <td>MG</td>\n",
       "      <td>1577</td>\n",
       "    </tr>\n",
       "    <tr>\n",
       "      <th>1</th>\n",
       "      <td>0</td>\n",
       "      <td>RJ</td>\n",
       "      <td>1830</td>\n",
       "    </tr>\n",
       "    <tr>\n",
       "      <th>2</th>\n",
       "      <td>0</td>\n",
       "      <td>SP</td>\n",
       "      <td>5974</td>\n",
       "    </tr>\n",
       "    <tr>\n",
       "      <th>3</th>\n",
       "      <td>1</td>\n",
       "      <td>MG</td>\n",
       "      <td>2156</td>\n",
       "    </tr>\n",
       "    <tr>\n",
       "      <th>4</th>\n",
       "      <td>1</td>\n",
       "      <td>RJ</td>\n",
       "      <td>2418</td>\n",
       "    </tr>\n",
       "    <tr>\n",
       "      <th>5</th>\n",
       "      <td>1</td>\n",
       "      <td>SP</td>\n",
       "      <td>8188</td>\n",
       "    </tr>\n",
       "    <tr>\n",
       "      <th>6</th>\n",
       "      <td>2</td>\n",
       "      <td>MG</td>\n",
       "      <td>2237</td>\n",
       "    </tr>\n",
       "    <tr>\n",
       "      <th>7</th>\n",
       "      <td>2</td>\n",
       "      <td>RJ</td>\n",
       "      <td>2494</td>\n",
       "    </tr>\n",
       "    <tr>\n",
       "      <th>8</th>\n",
       "      <td>2</td>\n",
       "      <td>SP</td>\n",
       "      <td>8196</td>\n",
       "    </tr>\n",
       "    <tr>\n",
       "      <th>9</th>\n",
       "      <td>3</td>\n",
       "      <td>MG</td>\n",
       "      <td>2121</td>\n",
       "    </tr>\n",
       "    <tr>\n",
       "      <th>10</th>\n",
       "      <td>3</td>\n",
       "      <td>RJ</td>\n",
       "      <td>2392</td>\n",
       "    </tr>\n",
       "    <tr>\n",
       "      <th>11</th>\n",
       "      <td>3</td>\n",
       "      <td>SP</td>\n",
       "      <td>7705</td>\n",
       "    </tr>\n",
       "    <tr>\n",
       "      <th>12</th>\n",
       "      <td>4</td>\n",
       "      <td>MG</td>\n",
       "      <td>2103</td>\n",
       "    </tr>\n",
       "    <tr>\n",
       "      <th>13</th>\n",
       "      <td>4</td>\n",
       "      <td>RJ</td>\n",
       "      <td>2208</td>\n",
       "    </tr>\n",
       "    <tr>\n",
       "      <th>14</th>\n",
       "      <td>4</td>\n",
       "      <td>SP</td>\n",
       "      <td>7436</td>\n",
       "    </tr>\n",
       "    <tr>\n",
       "      <th>15</th>\n",
       "      <td>5</td>\n",
       "      <td>MG</td>\n",
       "      <td>2000</td>\n",
       "    </tr>\n",
       "    <tr>\n",
       "      <th>16</th>\n",
       "      <td>5</td>\n",
       "      <td>RJ</td>\n",
       "      <td>2222</td>\n",
       "    </tr>\n",
       "    <tr>\n",
       "      <th>17</th>\n",
       "      <td>5</td>\n",
       "      <td>SP</td>\n",
       "      <td>6882</td>\n",
       "    </tr>\n",
       "    <tr>\n",
       "      <th>18</th>\n",
       "      <td>6</td>\n",
       "      <td>MG</td>\n",
       "      <td>1444</td>\n",
       "    </tr>\n",
       "    <tr>\n",
       "      <th>19</th>\n",
       "      <td>6</td>\n",
       "      <td>RJ</td>\n",
       "      <td>1763</td>\n",
       "    </tr>\n",
       "    <tr>\n",
       "      <th>20</th>\n",
       "      <td>6</td>\n",
       "      <td>SP</td>\n",
       "      <td>5185</td>\n",
       "    </tr>\n",
       "  </tbody>\n",
       "</table>\n",
       "</div>"
      ],
      "text/plain": [
       "   Day of Week State  Total Orders\n",
       "0            0    MG          1577\n",
       "1            0    RJ          1830\n",
       "2            0    SP          5974\n",
       "3            1    MG          2156\n",
       "4            1    RJ          2418\n",
       "5            1    SP          8188\n",
       "6            2    MG          2237\n",
       "7            2    RJ          2494\n",
       "8            2    SP          8196\n",
       "9            3    MG          2121\n",
       "10           3    RJ          2392\n",
       "11           3    SP          7705\n",
       "12           4    MG          2103\n",
       "13           4    RJ          2208\n",
       "14           4    SP          7436\n",
       "15           5    MG          2000\n",
       "16           5    RJ          2222\n",
       "17           5    SP          6882\n",
       "18           6    MG          1444\n",
       "19           6    RJ          1763\n",
       "20           6    SP          5185"
      ]
     },
     "execution_count": 72,
     "metadata": {},
     "output_type": "execute_result"
    }
   ],
   "source": [
    "results_df = pd.DataFrame(results, columns=['Day of Week', 'State', 'Total Orders'])\n",
    "results_df"
   ]
  },
  {
   "cell_type": "markdown",
   "id": "672232ec-40bd-4de1-87de-8be3c3cb8f0e",
   "metadata": {},
   "source": [
    "### SQL Queries: payment_type"
   ]
  },
  {
   "cell_type": "markdown",
   "id": "1ed0c6a3-d649-4532-81ad-db8a8238fcd5",
   "metadata": {},
   "source": [
    "This query calculates the total number of orders for each payment method used in the top three states."
   ]
  },
  {
   "cell_type": "code",
   "execution_count": 73,
   "id": "678b719e-73ec-4559-9fbd-f3c94a9b4a4d",
   "metadata": {},
   "outputs": [
    {
     "name": "stdout",
     "output_type": "stream",
     "text": [
      "[('UPI', 'MG', 2689), ('UPI', 'RJ', 2516), ('UPI', 'SP', 9496), ('credit_card', 'MG', 10170), ('credit_card', 'RJ', 11638), ('credit_card', 'SP', 36475), ('debit_card', 'MG', 151), ('debit_card', 'RJ', 209), ('debit_card', 'SP', 862), ('voucher', 'MG', 628), ('voucher', 'RJ', 964), ('voucher', 'SP', 2733)]\n"
     ]
    }
   ],
   "source": [
    "query = \"\"\"\n",
    "SELECT payment_type, customer_state, COUNT(order_id) AS total_orders\n",
    "FROM orders_customers_payments_order_items_products_join\n",
    "WHERE customer_state IN ('SP', 'RJ', 'MG')\n",
    "GROUP BY payment_type, customer_state\n",
    "ORDER BY payment_type, customer_state\n",
    "\"\"\"\n",
    "\n",
    "cursor.execute(query)\n",
    "results = cursor.fetchall()\n",
    "print(results)"
   ]
  },
  {
   "cell_type": "code",
   "execution_count": 74,
   "id": "e0826f54-7e57-4d56-b999-7d28968eedfc",
   "metadata": {},
   "outputs": [
    {
     "data": {
      "text/html": [
       "<div>\n",
       "<style scoped>\n",
       "    .dataframe tbody tr th:only-of-type {\n",
       "        vertical-align: middle;\n",
       "    }\n",
       "\n",
       "    .dataframe tbody tr th {\n",
       "        vertical-align: top;\n",
       "    }\n",
       "\n",
       "    .dataframe thead th {\n",
       "        text-align: right;\n",
       "    }\n",
       "</style>\n",
       "<table border=\"1\" class=\"dataframe\">\n",
       "  <thead>\n",
       "    <tr style=\"text-align: right;\">\n",
       "      <th></th>\n",
       "      <th>Payment Type</th>\n",
       "      <th>State</th>\n",
       "      <th>Total Orders</th>\n",
       "    </tr>\n",
       "  </thead>\n",
       "  <tbody>\n",
       "    <tr>\n",
       "      <th>0</th>\n",
       "      <td>UPI</td>\n",
       "      <td>MG</td>\n",
       "      <td>2689</td>\n",
       "    </tr>\n",
       "    <tr>\n",
       "      <th>1</th>\n",
       "      <td>UPI</td>\n",
       "      <td>RJ</td>\n",
       "      <td>2516</td>\n",
       "    </tr>\n",
       "    <tr>\n",
       "      <th>2</th>\n",
       "      <td>UPI</td>\n",
       "      <td>SP</td>\n",
       "      <td>9496</td>\n",
       "    </tr>\n",
       "    <tr>\n",
       "      <th>3</th>\n",
       "      <td>credit_card</td>\n",
       "      <td>MG</td>\n",
       "      <td>10170</td>\n",
       "    </tr>\n",
       "    <tr>\n",
       "      <th>4</th>\n",
       "      <td>credit_card</td>\n",
       "      <td>RJ</td>\n",
       "      <td>11638</td>\n",
       "    </tr>\n",
       "    <tr>\n",
       "      <th>5</th>\n",
       "      <td>credit_card</td>\n",
       "      <td>SP</td>\n",
       "      <td>36475</td>\n",
       "    </tr>\n",
       "    <tr>\n",
       "      <th>6</th>\n",
       "      <td>debit_card</td>\n",
       "      <td>MG</td>\n",
       "      <td>151</td>\n",
       "    </tr>\n",
       "    <tr>\n",
       "      <th>7</th>\n",
       "      <td>debit_card</td>\n",
       "      <td>RJ</td>\n",
       "      <td>209</td>\n",
       "    </tr>\n",
       "    <tr>\n",
       "      <th>8</th>\n",
       "      <td>debit_card</td>\n",
       "      <td>SP</td>\n",
       "      <td>862</td>\n",
       "    </tr>\n",
       "    <tr>\n",
       "      <th>9</th>\n",
       "      <td>voucher</td>\n",
       "      <td>MG</td>\n",
       "      <td>628</td>\n",
       "    </tr>\n",
       "    <tr>\n",
       "      <th>10</th>\n",
       "      <td>voucher</td>\n",
       "      <td>RJ</td>\n",
       "      <td>964</td>\n",
       "    </tr>\n",
       "    <tr>\n",
       "      <th>11</th>\n",
       "      <td>voucher</td>\n",
       "      <td>SP</td>\n",
       "      <td>2733</td>\n",
       "    </tr>\n",
       "  </tbody>\n",
       "</table>\n",
       "</div>"
      ],
      "text/plain": [
       "   Payment Type State  Total Orders\n",
       "0           UPI    MG          2689\n",
       "1           UPI    RJ          2516\n",
       "2           UPI    SP          9496\n",
       "3   credit_card    MG         10170\n",
       "4   credit_card    RJ         11638\n",
       "5   credit_card    SP         36475\n",
       "6    debit_card    MG           151\n",
       "7    debit_card    RJ           209\n",
       "8    debit_card    SP           862\n",
       "9       voucher    MG           628\n",
       "10      voucher    RJ           964\n",
       "11      voucher    SP          2733"
      ]
     },
     "execution_count": 74,
     "metadata": {},
     "output_type": "execute_result"
    }
   ],
   "source": [
    "results_df = pd.DataFrame(results, columns=['Payment Type', 'State', 'Total Orders'])\n",
    "results_df"
   ]
  },
  {
   "cell_type": "markdown",
   "id": "4c1dc2c9-eac7-45e4-85e7-435668360bab",
   "metadata": {},
   "source": [
    "### SQL Queries: payment_installments"
   ]
  },
  {
   "cell_type": "markdown",
   "id": "7d91c70e-3728-4729-8154-9f36652debf8",
   "metadata": {},
   "source": [
    "This query shows the total number of orders that were paid in full versus paid in installments for the top 3 states."
   ]
  },
  {
   "cell_type": "code",
   "execution_count": 76,
   "id": "899d4c5e-611c-44b6-8859-02f3f9ac241c",
   "metadata": {},
   "outputs": [
    {
     "name": "stdout",
     "output_type": "stream",
     "text": [
      "[(0, 'SP', 1), (1, 'MG', 6446), (1, 'RJ', 7267), (1, 'SP', 26444), (2, 'MG', 1560), (2, 'RJ', 1876), (2, 'SP', 6059), (3, 'MG', 1472), (3, 'RJ', 1618), (3, 'SP', 4767), (4, 'MG', 976), (4, 'RJ', 1075), (4, 'SP', 3018), (5, 'MG', 755), (5, 'RJ', 803), (5, 'SP', 2342), (6, 'MG', 563), (6, 'RJ', 613), (6, 'SP', 1654), (7, 'MG', 239), (7, 'RJ', 278), (7, 'SP', 639), (8, 'MG', 632), (8, 'RJ', 711), (8, 'SP', 1901), (9, 'MG', 82), (9, 'RJ', 91), (9, 'SP', 280), (10, 'MG', 870), (10, 'RJ', 934), (10, 'SP', 2310), (11, 'MG', 4), (11, 'RJ', 4), (11, 'SP', 9), (12, 'MG', 15), (12, 'RJ', 27), (12, 'SP', 51), (13, 'MG', 3), (13, 'RJ', 2), (13, 'SP', 6), (14, 'MG', 3), (14, 'RJ', 1), (14, 'SP', 7), (15, 'MG', 7), (15, 'RJ', 11), (15, 'SP', 31), (16, 'SP', 4), (17, 'MG', 1), (17, 'RJ', 1), (17, 'SP', 2), (18, 'MG', 6), (18, 'RJ', 4), (18, 'SP', 18), (20, 'RJ', 7), (20, 'SP', 6), (21, 'SP', 2), (22, 'RJ', 1), (23, 'SP', 1), (24, 'MG', 4), (24, 'RJ', 3), (24, 'SP', 14)]\n"
     ]
    }
   ],
   "source": [
    "query = \"\"\"\n",
    "SELECT payment_installments, customer_state, COUNT(order_id) AS total_orders\n",
    "FROM orders_customers_payments_order_items_products_join\n",
    "WHERE customer_state IN ('SP', 'RJ', 'MG')\n",
    "GROUP BY payment_installments, customer_state\n",
    "ORDER BY payment_installments, customer_state\n",
    "\"\"\"\n",
    "\n",
    "cursor.execute(query)\n",
    "results = cursor.fetchall()\n",
    "print(results)"
   ]
  },
  {
   "cell_type": "code",
   "execution_count": 77,
   "id": "717f6c46-62c6-49a3-8772-c50fcca55038",
   "metadata": {},
   "outputs": [
    {
     "data": {
      "text/html": [
       "<div>\n",
       "<style scoped>\n",
       "    .dataframe tbody tr th:only-of-type {\n",
       "        vertical-align: middle;\n",
       "    }\n",
       "\n",
       "    .dataframe tbody tr th {\n",
       "        vertical-align: top;\n",
       "    }\n",
       "\n",
       "    .dataframe thead th {\n",
       "        text-align: right;\n",
       "    }\n",
       "</style>\n",
       "<table border=\"1\" class=\"dataframe\">\n",
       "  <thead>\n",
       "    <tr style=\"text-align: right;\">\n",
       "      <th></th>\n",
       "      <th>Payment Installments</th>\n",
       "      <th>State</th>\n",
       "      <th>Total Orders</th>\n",
       "    </tr>\n",
       "  </thead>\n",
       "  <tbody>\n",
       "    <tr>\n",
       "      <th>0</th>\n",
       "      <td>0</td>\n",
       "      <td>SP</td>\n",
       "      <td>1</td>\n",
       "    </tr>\n",
       "    <tr>\n",
       "      <th>1</th>\n",
       "      <td>1</td>\n",
       "      <td>MG</td>\n",
       "      <td>6446</td>\n",
       "    </tr>\n",
       "    <tr>\n",
       "      <th>2</th>\n",
       "      <td>1</td>\n",
       "      <td>RJ</td>\n",
       "      <td>7267</td>\n",
       "    </tr>\n",
       "    <tr>\n",
       "      <th>3</th>\n",
       "      <td>1</td>\n",
       "      <td>SP</td>\n",
       "      <td>26444</td>\n",
       "    </tr>\n",
       "    <tr>\n",
       "      <th>4</th>\n",
       "      <td>2</td>\n",
       "      <td>MG</td>\n",
       "      <td>1560</td>\n",
       "    </tr>\n",
       "    <tr>\n",
       "      <th>...</th>\n",
       "      <td>...</td>\n",
       "      <td>...</td>\n",
       "      <td>...</td>\n",
       "    </tr>\n",
       "    <tr>\n",
       "      <th>56</th>\n",
       "      <td>22</td>\n",
       "      <td>RJ</td>\n",
       "      <td>1</td>\n",
       "    </tr>\n",
       "    <tr>\n",
       "      <th>57</th>\n",
       "      <td>23</td>\n",
       "      <td>SP</td>\n",
       "      <td>1</td>\n",
       "    </tr>\n",
       "    <tr>\n",
       "      <th>58</th>\n",
       "      <td>24</td>\n",
       "      <td>MG</td>\n",
       "      <td>4</td>\n",
       "    </tr>\n",
       "    <tr>\n",
       "      <th>59</th>\n",
       "      <td>24</td>\n",
       "      <td>RJ</td>\n",
       "      <td>3</td>\n",
       "    </tr>\n",
       "    <tr>\n",
       "      <th>60</th>\n",
       "      <td>24</td>\n",
       "      <td>SP</td>\n",
       "      <td>14</td>\n",
       "    </tr>\n",
       "  </tbody>\n",
       "</table>\n",
       "<p>61 rows × 3 columns</p>\n",
       "</div>"
      ],
      "text/plain": [
       "    Payment Installments State  Total Orders\n",
       "0                      0    SP             1\n",
       "1                      1    MG          6446\n",
       "2                      1    RJ          7267\n",
       "3                      1    SP         26444\n",
       "4                      2    MG          1560\n",
       "..                   ...   ...           ...\n",
       "56                    22    RJ             1\n",
       "57                    23    SP             1\n",
       "58                    24    MG             4\n",
       "59                    24    RJ             3\n",
       "60                    24    SP            14\n",
       "\n",
       "[61 rows x 3 columns]"
      ]
     },
     "execution_count": 77,
     "metadata": {},
     "output_type": "execute_result"
    }
   ],
   "source": [
    "results_df = pd.DataFrame(results, columns=['Payment Installments', 'State', 'Total Orders'])\n",
    "results_df"
   ]
  },
  {
   "cell_type": "markdown",
   "id": "ea01d225-6c82-43f3-84d1-533abdd832c0",
   "metadata": {},
   "source": [
    "### SQL Queries: payment_value"
   ]
  },
  {
   "cell_type": "markdown",
   "id": "3e90221e-2ce5-40a7-a626-0f2389c6a41d",
   "metadata": {},
   "source": [
    "This query will find the total value of all orders for each of the top 3 states."
   ]
  },
  {
   "cell_type": "code",
   "execution_count": 78,
   "id": "c3cd0716-6573-4afa-aaea-952b4cc7d064",
   "metadata": {},
   "outputs": [
    {
     "name": "stdout",
     "output_type": "stream",
     "text": [
      "[('SP', 7597209.66), ('RJ', 2769347.44), ('MG', 2326151.64)]\n"
     ]
    }
   ],
   "source": [
    "query = \"\"\"\n",
    "SELECT customer_state, SUM(payment_value) AS total_payment_value\n",
    "FROM orders_customers_payments_order_items_products_join\n",
    "WHERE customer_state IN ('SP', 'RJ', 'MG')\n",
    "GROUP BY customer_state\n",
    "ORDER BY total_payment_value DESC\n",
    "\"\"\"\n",
    "\n",
    "cursor.execute(query)\n",
    "results = cursor.fetchall()\n",
    "print(results)"
   ]
  },
  {
   "cell_type": "code",
   "execution_count": 80,
   "id": "5efecbc8-ab17-446d-be61-c698d7dcc693",
   "metadata": {},
   "outputs": [
    {
     "data": {
      "text/html": [
       "<div>\n",
       "<style scoped>\n",
       "    .dataframe tbody tr th:only-of-type {\n",
       "        vertical-align: middle;\n",
       "    }\n",
       "\n",
       "    .dataframe tbody tr th {\n",
       "        vertical-align: top;\n",
       "    }\n",
       "\n",
       "    .dataframe thead th {\n",
       "        text-align: right;\n",
       "    }\n",
       "</style>\n",
       "<table border=\"1\" class=\"dataframe\">\n",
       "  <thead>\n",
       "    <tr style=\"text-align: right;\">\n",
       "      <th></th>\n",
       "      <th>State</th>\n",
       "      <th>Total Payment Value</th>\n",
       "    </tr>\n",
       "  </thead>\n",
       "  <tbody>\n",
       "    <tr>\n",
       "      <th>0</th>\n",
       "      <td>SP</td>\n",
       "      <td>7597209.66</td>\n",
       "    </tr>\n",
       "    <tr>\n",
       "      <th>1</th>\n",
       "      <td>RJ</td>\n",
       "      <td>2769347.44</td>\n",
       "    </tr>\n",
       "    <tr>\n",
       "      <th>2</th>\n",
       "      <td>MG</td>\n",
       "      <td>2326151.64</td>\n",
       "    </tr>\n",
       "  </tbody>\n",
       "</table>\n",
       "</div>"
      ],
      "text/plain": [
       "  State  Total Payment Value\n",
       "0    SP           7597209.66\n",
       "1    RJ           2769347.44\n",
       "2    MG           2326151.64"
      ]
     },
     "execution_count": 80,
     "metadata": {},
     "output_type": "execute_result"
    }
   ],
   "source": [
    "results_df = pd.DataFrame(results, columns=['State', 'Total Payment Value'])\n",
    "results_df"
   ]
  },
  {
   "cell_type": "markdown",
   "id": "be83b68f-2f50-4980-8539-c58cc6f46a42",
   "metadata": {},
   "source": [
    "This query will find the average order value for each state."
   ]
  },
  {
   "cell_type": "code",
   "execution_count": 82,
   "id": "4d19af9d-317c-4f10-8ce1-a63bb37fa96c",
   "metadata": {},
   "outputs": [
    {
     "name": "stdout",
     "output_type": "stream",
     "text": [
      "[('RJ', 180.68424610165067), ('MG', 170.5639859216894), ('SP', 153.2746168744704)]\n"
     ]
    }
   ],
   "source": [
    "query = \"\"\"\n",
    "SELECT customer_state, AVG(payment_value) AS avg_payment_value\n",
    "FROM orders_customers_payments_order_items_products_join\n",
    "WHERE customer_state IN ('SP', 'RJ', 'MG')\n",
    "GROUP BY customer_state\n",
    "ORDER BY avg_payment_value DESC\n",
    "\"\"\"\n",
    "\n",
    "cursor.execute(query)\n",
    "results = cursor.fetchall()\n",
    "print(results)"
   ]
  },
  {
   "cell_type": "code",
   "execution_count": 83,
   "id": "19782cc8-db10-4dee-8470-fbb203d2b57f",
   "metadata": {},
   "outputs": [
    {
     "data": {
      "text/html": [
       "<div>\n",
       "<style scoped>\n",
       "    .dataframe tbody tr th:only-of-type {\n",
       "        vertical-align: middle;\n",
       "    }\n",
       "\n",
       "    .dataframe tbody tr th {\n",
       "        vertical-align: top;\n",
       "    }\n",
       "\n",
       "    .dataframe thead th {\n",
       "        text-align: right;\n",
       "    }\n",
       "</style>\n",
       "<table border=\"1\" class=\"dataframe\">\n",
       "  <thead>\n",
       "    <tr style=\"text-align: right;\">\n",
       "      <th></th>\n",
       "      <th>State</th>\n",
       "      <th>Average Payment Value</th>\n",
       "    </tr>\n",
       "  </thead>\n",
       "  <tbody>\n",
       "    <tr>\n",
       "      <th>0</th>\n",
       "      <td>RJ</td>\n",
       "      <td>180.684246</td>\n",
       "    </tr>\n",
       "    <tr>\n",
       "      <th>1</th>\n",
       "      <td>MG</td>\n",
       "      <td>170.563986</td>\n",
       "    </tr>\n",
       "    <tr>\n",
       "      <th>2</th>\n",
       "      <td>SP</td>\n",
       "      <td>153.274617</td>\n",
       "    </tr>\n",
       "  </tbody>\n",
       "</table>\n",
       "</div>"
      ],
      "text/plain": [
       "  State  Average Payment Value\n",
       "0    RJ             180.684246\n",
       "1    MG             170.563986\n",
       "2    SP             153.274617"
      ]
     },
     "execution_count": 83,
     "metadata": {},
     "output_type": "execute_result"
    }
   ],
   "source": [
    "results_df = pd.DataFrame(results, columns=['State', 'Average Payment Value'])\n",
    "results_df"
   ]
  },
  {
   "cell_type": "markdown",
   "id": "4634d33b-f856-428b-8b1f-503043ae3658",
   "metadata": {},
   "source": [
    "### SQL Queries: product_category_name"
   ]
  },
  {
   "cell_type": "markdown",
   "id": "144c0e78-1189-43d5-8435-ad06210b85c6",
   "metadata": {},
   "source": [
    "This query will give the the total payment value for each product category for the top 3 states."
   ]
  },
  {
   "cell_type": "code",
   "execution_count": 90,
   "id": "1add05ad-da2c-449c-a960-3faf5358f922",
   "metadata": {},
   "outputs": [
    {
     "data": {
      "text/html": [
       "<div>\n",
       "<style scoped>\n",
       "    .dataframe tbody tr th:only-of-type {\n",
       "        vertical-align: middle;\n",
       "    }\n",
       "\n",
       "    .dataframe tbody tr th {\n",
       "        vertical-align: top;\n",
       "    }\n",
       "\n",
       "    .dataframe thead th {\n",
       "        text-align: right;\n",
       "    }\n",
       "</style>\n",
       "<table border=\"1\" class=\"dataframe\">\n",
       "  <thead>\n",
       "    <tr style=\"text-align: right;\">\n",
       "      <th></th>\n",
       "      <th>Product Category</th>\n",
       "      <th>State</th>\n",
       "      <th>Total Payment Value</th>\n",
       "    </tr>\n",
       "  </thead>\n",
       "  <tbody>\n",
       "    <tr>\n",
       "      <th>0</th>\n",
       "      <td>bed table bath</td>\n",
       "      <td>SP</td>\n",
       "      <td>765517.23</td>\n",
       "    </tr>\n",
       "    <tr>\n",
       "      <th>1</th>\n",
       "      <td>computer accessories</td>\n",
       "      <td>SP</td>\n",
       "      <td>634556.96</td>\n",
       "    </tr>\n",
       "    <tr>\n",
       "      <th>2</th>\n",
       "      <td>HEALTH BEAUTY</td>\n",
       "      <td>SP</td>\n",
       "      <td>616107.20</td>\n",
       "    </tr>\n",
       "    <tr>\n",
       "      <th>3</th>\n",
       "      <td>Furniture Decoration</td>\n",
       "      <td>SP</td>\n",
       "      <td>553653.25</td>\n",
       "    </tr>\n",
       "    <tr>\n",
       "      <th>4</th>\n",
       "      <td>sport leisure</td>\n",
       "      <td>SP</td>\n",
       "      <td>523755.73</td>\n",
       "    </tr>\n",
       "    <tr>\n",
       "      <th>...</th>\n",
       "      <td>...</td>\n",
       "      <td>...</td>\n",
       "      <td>...</td>\n",
       "    </tr>\n",
       "    <tr>\n",
       "      <th>210</th>\n",
       "      <td>House Comfort 2</td>\n",
       "      <td>MG</td>\n",
       "      <td>134.06</td>\n",
       "    </tr>\n",
       "    <tr>\n",
       "      <th>211</th>\n",
       "      <td>Fashion Children's Clothing</td>\n",
       "      <td>RJ</td>\n",
       "      <td>124.52</td>\n",
       "    </tr>\n",
       "    <tr>\n",
       "      <th>212</th>\n",
       "      <td>cds music dvds</td>\n",
       "      <td>RJ</td>\n",
       "      <td>122.22</td>\n",
       "    </tr>\n",
       "    <tr>\n",
       "      <th>213</th>\n",
       "      <td>Kitchen portable and food coach</td>\n",
       "      <td>RJ</td>\n",
       "      <td>103.68</td>\n",
       "    </tr>\n",
       "    <tr>\n",
       "      <th>214</th>\n",
       "      <td>Hygiene diapers</td>\n",
       "      <td>MG</td>\n",
       "      <td>58.23</td>\n",
       "    </tr>\n",
       "  </tbody>\n",
       "</table>\n",
       "<p>215 rows × 3 columns</p>\n",
       "</div>"
      ],
      "text/plain": [
       "                    Product Category State  Total Payment Value\n",
       "0                     bed table bath    SP            765517.23\n",
       "1               computer accessories    SP            634556.96\n",
       "2                      HEALTH BEAUTY    SP            616107.20\n",
       "3               Furniture Decoration    SP            553653.25\n",
       "4                      sport leisure    SP            523755.73\n",
       "..                               ...   ...                  ...\n",
       "210                  House Comfort 2    MG               134.06\n",
       "211      Fashion Children's Clothing    RJ               124.52\n",
       "212                   cds music dvds    RJ               122.22\n",
       "213  Kitchen portable and food coach    RJ               103.68\n",
       "214                  Hygiene diapers    MG                58.23\n",
       "\n",
       "[215 rows x 3 columns]"
      ]
     },
     "execution_count": 90,
     "metadata": {},
     "output_type": "execute_result"
    }
   ],
   "source": [
    "query = \"\"\"\n",
    "SELECT \"product category\", customer_state, SUM(payment_value) AS total_payment_value\n",
    "FROM orders_customers_payments_order_items_products_join\n",
    "WHERE customer_state IN ('SP', 'RJ', 'MG')\n",
    "GROUP BY \"product category\", customer_state\n",
    "ORDER BY total_payment_value DESC\n",
    "\"\"\"\n",
    "\n",
    "cursor.execute(query)\n",
    "results = cursor.fetchall()\n",
    "\n",
    "results_df = pd.DataFrame(results, columns=['Product Category', 'State', 'Total Payment Value'])\n",
    "results_df"
   ]
  },
  {
   "cell_type": "markdown",
   "id": "458d3a61-8fc2-449c-92fb-5ac873e7ad18",
   "metadata": {},
   "source": [
    "### SQL Queries: price"
   ]
  },
  {
   "cell_type": "markdown",
   "id": "6a22d98a-1dd9-433a-9078-b7bd4f4add2a",
   "metadata": {},
   "source": [
    "This query will provide the average price of products in each of the top 3 states."
   ]
  },
  {
   "cell_type": "code",
   "execution_count": 91,
   "id": "5f9cd78b-3e4a-4de1-a204-71055d8e82a9",
   "metadata": {},
   "outputs": [
    {
     "name": "stdout",
     "output_type": "stream",
     "text": [
      "[('RJ', 124.84923076923076), ('MG', 120.22560712714474), ('SP', 109.91741818988822)]\n"
     ]
    }
   ],
   "source": [
    "query = \"\"\"\n",
    "SELECT customer_state, AVG(price) AS avg_price\n",
    "FROM orders_customers_payments_order_items_products_join\n",
    "WHERE customer_state IN ('SP', 'RJ', 'MG')\n",
    "GROUP BY customer_state\n",
    "ORDER BY avg_price DESC\n",
    "\"\"\"\n",
    "\n",
    "cursor.execute(query)\n",
    "results = cursor.fetchall()\n",
    "print(results)"
   ]
  },
  {
   "cell_type": "code",
   "execution_count": 93,
   "id": "775e7451-d828-4667-a16e-4eb813faff50",
   "metadata": {},
   "outputs": [
    {
     "data": {
      "text/html": [
       "<div>\n",
       "<style scoped>\n",
       "    .dataframe tbody tr th:only-of-type {\n",
       "        vertical-align: middle;\n",
       "    }\n",
       "\n",
       "    .dataframe tbody tr th {\n",
       "        vertical-align: top;\n",
       "    }\n",
       "\n",
       "    .dataframe thead th {\n",
       "        text-align: right;\n",
       "    }\n",
       "</style>\n",
       "<table border=\"1\" class=\"dataframe\">\n",
       "  <thead>\n",
       "    <tr style=\"text-align: right;\">\n",
       "      <th></th>\n",
       "      <th>State</th>\n",
       "      <th>Average Price of Products</th>\n",
       "    </tr>\n",
       "  </thead>\n",
       "  <tbody>\n",
       "    <tr>\n",
       "      <th>0</th>\n",
       "      <td>RJ</td>\n",
       "      <td>124.849231</td>\n",
       "    </tr>\n",
       "    <tr>\n",
       "      <th>1</th>\n",
       "      <td>MG</td>\n",
       "      <td>120.225607</td>\n",
       "    </tr>\n",
       "    <tr>\n",
       "      <th>2</th>\n",
       "      <td>SP</td>\n",
       "      <td>109.917418</td>\n",
       "    </tr>\n",
       "  </tbody>\n",
       "</table>\n",
       "</div>"
      ],
      "text/plain": [
       "  State  Average Price of Products\n",
       "0    RJ                 124.849231\n",
       "1    MG                 120.225607\n",
       "2    SP                 109.917418"
      ]
     },
     "execution_count": 93,
     "metadata": {},
     "output_type": "execute_result"
    }
   ],
   "source": [
    "results_df = pd.DataFrame(results, columns=['State', 'Average Price of Products'])\n",
    "results_df"
   ]
  },
  {
   "cell_type": "markdown",
   "id": "543e753e-bf2d-4196-b1f9-e5ad1478d537",
   "metadata": {},
   "source": [
    "Closing the connection."
   ]
  },
  {
   "cell_type": "code",
   "execution_count": 94,
   "id": "43df78da-f8ad-41c7-a502-f9e22f220d03",
   "metadata": {},
   "outputs": [],
   "source": [
    "conn.close()"
   ]
  },
  {
   "cell_type": "markdown",
   "id": "d00889b5-9fd1-4ecb-b19f-63f0c886009a",
   "metadata": {},
   "source": [
    "## Conclusion and Next Steps\n",
    "In this notebook I have done the following:\n",
    "- Cleaned Data\n",
    "- Examined Distributions\n",
    "- Used SQL queries to explore the data and help answer the main question.\n",
    "\n",
    "Insights\n",
    "- There were many duplicate rows that were removed (11,213).\n",
    "\n",
    "- The top 3 states with the most orders were 'SP', 'RJ', and 'MG'.\n",
    "\n",
    "Next steps\n",
    "- I will used the cleaned dataset in Tableau to create visualizations."
   ]
  }
 ],
 "metadata": {
  "kernelspec": {
   "display_name": "Python 3 (ipykernel)",
   "language": "python",
   "name": "python3"
  },
  "language_info": {
   "codemirror_mode": {
    "name": "ipython",
    "version": 3
   },
   "file_extension": ".py",
   "mimetype": "text/x-python",
   "name": "python",
   "nbconvert_exporter": "python",
   "pygments_lexer": "ipython3",
   "version": "3.13.2"
  }
 },
 "nbformat": 4,
 "nbformat_minor": 5
}
